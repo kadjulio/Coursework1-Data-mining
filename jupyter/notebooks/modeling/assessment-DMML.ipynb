{
 "cells": [
  {
   "cell_type": "code",
   "execution_count": 3,
   "metadata": {
    "pycharm": {
     "is_executing": false
    }
   },
   "outputs": [],
   "source": [
    "import pandas as pd\n",
    "from sklearn.utils import shuffle\n",
    "from sklearn.model_selection import train_test_split\n",
    "from sklearn.naive_bayes import MultinomialNB\n",
    "from sklearn.metrics import confusion_matrix\n",
    "from sklearn.feature_selection import SelectKBest\n",
    "from sklearn.feature_selection import chi2\n",
    "import numpy as np\n",
    "import matplotlib.pyplot as plt\n",
    "import numpy as np\n",
    "import itertools\n",
    "from scipy import stats\n",
    "import math\n",
    "%matplotlib inline"
   ]
  },
  {
   "cell_type": "markdown",
   "metadata": {},
   "source": [
    "# 1. CSV to ARFF"
   ]
  },
  {
   "cell_type": "code",
   "execution_count": 4,
   "metadata": {
    "pycharm": {
     "is_executing": false
    }
   },
   "outputs": [],
   "source": [
    "#Since we are using Python, we do  not need to complete this step"
   ]
  },
  {
   "cell_type": "markdown",
   "metadata": {},
   "source": [
    "# Loading Data"
   ]
  },
  {
   "cell_type": "markdown",
   "metadata": {},
   "source": [
    "## pandas.read_csv"
   ]
  },
  {
   "cell_type": "code",
   "execution_count": 5,
   "metadata": {
    "pycharm": {
     "is_executing": false
    }
   },
   "outputs": [
    {
     "name": "stdout",
     "output_type": "stream",
     "text": [
      "<class 'pandas.core.frame.DataFrame'>\n",
      "RangeIndex: 12660 entries, 0 to 12659\n",
      "Columns: 2304 entries, 0 to 2303\n",
      "dtypes: float64(2304)\n",
      "memory usage: 222.5 MB\n"
     ]
    }
   ],
   "source": [
    "file_path = \"../../data/raw/\"\n",
    "\n",
    "X = pd.read_csv(f\"{file_path}x_train_gr_smpl.csv\", delimiter=',')\n",
    "X.info()"
   ]
  },
  {
   "cell_type": "code",
   "execution_count": 6,
   "metadata": {
    "pycharm": {
     "is_executing": false
    }
   },
   "outputs": [],
   "source": [
    "# image = X.loc[[600]].values\n",
    "# image = image[0].reshape((48,48))\n",
    "# image.shape\n",
    "# plt.imshow(image)"
   ]
  },
  {
   "cell_type": "code",
   "execution_count": 7,
   "metadata": {
    "pycharm": {
     "is_executing": false
    }
   },
   "outputs": [
    {
     "data": {
      "text/html": [
       "<div>\n",
       "<style scoped>\n",
       "    .dataframe tbody tr th:only-of-type {\n",
       "        vertical-align: middle;\n",
       "    }\n",
       "\n",
       "    .dataframe tbody tr th {\n",
       "        vertical-align: top;\n",
       "    }\n",
       "\n",
       "    .dataframe thead th {\n",
       "        text-align: right;\n",
       "    }\n",
       "</style>\n",
       "<table border=\"1\" class=\"dataframe\">\n",
       "  <thead>\n",
       "    <tr style=\"text-align: right;\">\n",
       "      <th></th>\n",
       "      <th>target</th>\n",
       "    </tr>\n",
       "  </thead>\n",
       "  <tbody>\n",
       "    <tr>\n",
       "      <th>12655</th>\n",
       "      <td>9</td>\n",
       "    </tr>\n",
       "    <tr>\n",
       "      <th>12656</th>\n",
       "      <td>9</td>\n",
       "    </tr>\n",
       "    <tr>\n",
       "      <th>12657</th>\n",
       "      <td>9</td>\n",
       "    </tr>\n",
       "    <tr>\n",
       "      <th>12658</th>\n",
       "      <td>9</td>\n",
       "    </tr>\n",
       "    <tr>\n",
       "      <th>12659</th>\n",
       "      <td>9</td>\n",
       "    </tr>\n",
       "  </tbody>\n",
       "</table>\n",
       "</div>"
      ],
      "text/plain": [
       "       target\n",
       "12655       9\n",
       "12656       9\n",
       "12657       9\n",
       "12658       9\n",
       "12659       9"
      ]
     },
     "execution_count": 7,
     "metadata": {},
     "output_type": "execute_result"
    }
   ],
   "source": [
    "Y = pd.read_csv(f\"{file_path}y_train_smpl.csv\", delimiter=',')\n",
    "Y.columns = ['target']\n",
    "\n",
    "y0 = pd.read_csv(f\"{file_path}y_train_smpl_0.csv\", delimiter=',')\n",
    "y0.columns = ['target']\n",
    "\n",
    "y1 = pd.read_csv(f\"{file_path}y_train_smpl_1.csv\", delimiter=',')\n",
    "y1.columns = ['target']\n",
    "\n",
    "y2 = pd.read_csv(f\"{file_path}y_train_smpl_2.csv\", delimiter=',')\n",
    "y2.columns = ['target']\n",
    "\n",
    "y3 = pd.read_csv(f\"{file_path}y_train_smpl_3.csv\", delimiter=',')\n",
    "y3.columns = ['target']\n",
    "\n",
    "y4 = pd.read_csv(f\"{file_path}y_train_smpl_4.csv\", delimiter=',')\n",
    "y4.columns = ['target']\n",
    "\n",
    "y5 = pd.read_csv(f\"{file_path}y_train_smpl_5.csv\", delimiter=',')\n",
    "y5.columns = ['target']\n",
    "\n",
    "y6 = pd.read_csv(f\"{file_path}y_train_smpl_6.csv\", delimiter=',')\n",
    "y6.columns = ['target']\n",
    "\n",
    "y7 = pd.read_csv(f\"{file_path}y_train_smpl_7.csv\", delimiter=',')\n",
    "y7.columns = ['target']\n",
    "\n",
    "y8 = pd.read_csv(f\"{file_path}y_train_smpl_8.csv\", delimiter=',')\n",
    "y8.columns = ['target']\n",
    "\n",
    "y9 = pd.read_csv(f\"{file_path}y_train_smpl_9.csv\", delimiter=',')\n",
    "y9.columns = ['target']\n",
    "\n",
    "Y.tail()"
   ]
  },
  {
   "cell_type": "markdown",
   "metadata": {},
   "source": [
    "# Create datasets"
   ]
  },
  {
   "cell_type": "code",
   "execution_count": 8,
   "metadata": {
    "pycharm": {
     "is_executing": false
    }
   },
   "outputs": [],
   "source": [
    "train_smpl_0 = pd.concat([X, y0], axis=1)\n",
    "train_smpl_1 = pd.concat([X, y1], axis=1)"
   ]
  },
  {
   "cell_type": "code",
   "execution_count": 9,
   "metadata": {
    "pycharm": {
     "is_executing": false
    }
   },
   "outputs": [],
   "source": [
    "train_smpl_2 = pd.concat([X, y2], axis=1)\n",
    "train_smpl_3 = pd.concat([X, y3], axis=1)"
   ]
  },
  {
   "cell_type": "code",
   "execution_count": 10,
   "metadata": {
    "pycharm": {
     "is_executing": false
    }
   },
   "outputs": [],
   "source": [
    "train_smpl_4 = pd.concat([X, y4], axis=1)\n",
    "train_smpl_5 = pd.concat([X, y5], axis=1)"
   ]
  },
  {
   "cell_type": "code",
   "execution_count": 11,
   "metadata": {
    "pycharm": {
     "is_executing": false
    }
   },
   "outputs": [],
   "source": [
    "train_smpl_6 = pd.concat([X, y6], axis=1)\n",
    "train_smpl_7 = pd.concat([X, y7], axis=1)"
   ]
  },
  {
   "cell_type": "code",
   "execution_count": 12,
   "metadata": {
    "pycharm": {
     "is_executing": false
    }
   },
   "outputs": [],
   "source": [
    "train_smpl_8 = pd.concat([X, y8], axis=1)\n",
    "train_smpl_9 = pd.concat([X, y9], axis=1)"
   ]
  },
  {
   "cell_type": "code",
   "execution_count": 13,
   "metadata": {
    "pycharm": {
     "is_executing": false
    }
   },
   "outputs": [
    {
     "data": {
      "text/html": [
       "<div>\n",
       "<style scoped>\n",
       "    .dataframe tbody tr th:only-of-type {\n",
       "        vertical-align: middle;\n",
       "    }\n",
       "\n",
       "    .dataframe tbody tr th {\n",
       "        vertical-align: top;\n",
       "    }\n",
       "\n",
       "    .dataframe thead th {\n",
       "        text-align: right;\n",
       "    }\n",
       "</style>\n",
       "<table border=\"1\" class=\"dataframe\">\n",
       "  <thead>\n",
       "    <tr style=\"text-align: right;\">\n",
       "      <th></th>\n",
       "      <th>0</th>\n",
       "      <th>1</th>\n",
       "      <th>2</th>\n",
       "      <th>3</th>\n",
       "      <th>4</th>\n",
       "      <th>5</th>\n",
       "      <th>6</th>\n",
       "      <th>7</th>\n",
       "      <th>8</th>\n",
       "      <th>9</th>\n",
       "      <th>...</th>\n",
       "      <th>2295</th>\n",
       "      <th>2296</th>\n",
       "      <th>2297</th>\n",
       "      <th>2298</th>\n",
       "      <th>2299</th>\n",
       "      <th>2300</th>\n",
       "      <th>2301</th>\n",
       "      <th>2302</th>\n",
       "      <th>2303</th>\n",
       "      <th>target</th>\n",
       "    </tr>\n",
       "  </thead>\n",
       "  <tbody>\n",
       "    <tr>\n",
       "      <th>0</th>\n",
       "      <td>30.0</td>\n",
       "      <td>29.0</td>\n",
       "      <td>28.0</td>\n",
       "      <td>29.0</td>\n",
       "      <td>31.0</td>\n",
       "      <td>30.0</td>\n",
       "      <td>29.0</td>\n",
       "      <td>28.0</td>\n",
       "      <td>27.0</td>\n",
       "      <td>26.0</td>\n",
       "      <td>...</td>\n",
       "      <td>32.0</td>\n",
       "      <td>35.0</td>\n",
       "      <td>38.0</td>\n",
       "      <td>39.0</td>\n",
       "      <td>39.0</td>\n",
       "      <td>40.0</td>\n",
       "      <td>39.0</td>\n",
       "      <td>39.0</td>\n",
       "      <td>38.0</td>\n",
       "      <td>0</td>\n",
       "    </tr>\n",
       "    <tr>\n",
       "      <th>1</th>\n",
       "      <td>31.0</td>\n",
       "      <td>31.0</td>\n",
       "      <td>33.0</td>\n",
       "      <td>32.0</td>\n",
       "      <td>31.0</td>\n",
       "      <td>30.0</td>\n",
       "      <td>29.0</td>\n",
       "      <td>28.0</td>\n",
       "      <td>28.0</td>\n",
       "      <td>28.0</td>\n",
       "      <td>...</td>\n",
       "      <td>34.0</td>\n",
       "      <td>35.0</td>\n",
       "      <td>36.0</td>\n",
       "      <td>36.0</td>\n",
       "      <td>37.0</td>\n",
       "      <td>38.0</td>\n",
       "      <td>38.0</td>\n",
       "      <td>37.0</td>\n",
       "      <td>37.0</td>\n",
       "      <td>0</td>\n",
       "    </tr>\n",
       "    <tr>\n",
       "      <th>2</th>\n",
       "      <td>30.0</td>\n",
       "      <td>30.0</td>\n",
       "      <td>31.0</td>\n",
       "      <td>29.0</td>\n",
       "      <td>28.0</td>\n",
       "      <td>27.0</td>\n",
       "      <td>26.0</td>\n",
       "      <td>28.0</td>\n",
       "      <td>30.0</td>\n",
       "      <td>31.0</td>\n",
       "      <td>...</td>\n",
       "      <td>35.0</td>\n",
       "      <td>37.0</td>\n",
       "      <td>37.0</td>\n",
       "      <td>38.0</td>\n",
       "      <td>39.0</td>\n",
       "      <td>38.0</td>\n",
       "      <td>38.0</td>\n",
       "      <td>39.0</td>\n",
       "      <td>40.0</td>\n",
       "      <td>0</td>\n",
       "    </tr>\n",
       "    <tr>\n",
       "      <th>3</th>\n",
       "      <td>26.0</td>\n",
       "      <td>25.0</td>\n",
       "      <td>24.0</td>\n",
       "      <td>24.0</td>\n",
       "      <td>24.0</td>\n",
       "      <td>27.0</td>\n",
       "      <td>28.0</td>\n",
       "      <td>29.0</td>\n",
       "      <td>29.0</td>\n",
       "      <td>30.0</td>\n",
       "      <td>...</td>\n",
       "      <td>34.0</td>\n",
       "      <td>36.0</td>\n",
       "      <td>37.0</td>\n",
       "      <td>38.0</td>\n",
       "      <td>42.0</td>\n",
       "      <td>40.0</td>\n",
       "      <td>37.0</td>\n",
       "      <td>36.0</td>\n",
       "      <td>36.0</td>\n",
       "      <td>0</td>\n",
       "    </tr>\n",
       "    <tr>\n",
       "      <th>4</th>\n",
       "      <td>25.0</td>\n",
       "      <td>26.0</td>\n",
       "      <td>28.0</td>\n",
       "      <td>28.0</td>\n",
       "      <td>28.0</td>\n",
       "      <td>28.0</td>\n",
       "      <td>28.0</td>\n",
       "      <td>27.0</td>\n",
       "      <td>26.0</td>\n",
       "      <td>25.0</td>\n",
       "      <td>...</td>\n",
       "      <td>31.0</td>\n",
       "      <td>33.0</td>\n",
       "      <td>37.0</td>\n",
       "      <td>38.0</td>\n",
       "      <td>37.0</td>\n",
       "      <td>36.0</td>\n",
       "      <td>36.0</td>\n",
       "      <td>35.0</td>\n",
       "      <td>35.0</td>\n",
       "      <td>0</td>\n",
       "    </tr>\n",
       "  </tbody>\n",
       "</table>\n",
       "<p>5 rows × 2305 columns</p>\n",
       "</div>"
      ],
      "text/plain": [
       "      0     1     2     3     4     5     6     7     8     9  ...  2295  \\\n",
       "0  30.0  29.0  28.0  29.0  31.0  30.0  29.0  28.0  27.0  26.0  ...  32.0   \n",
       "1  31.0  31.0  33.0  32.0  31.0  30.0  29.0  28.0  28.0  28.0  ...  34.0   \n",
       "2  30.0  30.0  31.0  29.0  28.0  27.0  26.0  28.0  30.0  31.0  ...  35.0   \n",
       "3  26.0  25.0  24.0  24.0  24.0  27.0  28.0  29.0  29.0  30.0  ...  34.0   \n",
       "4  25.0  26.0  28.0  28.0  28.0  28.0  28.0  27.0  26.0  25.0  ...  31.0   \n",
       "\n",
       "   2296  2297  2298  2299  2300  2301  2302  2303  target  \n",
       "0  35.0  38.0  39.0  39.0  40.0  39.0  39.0  38.0       0  \n",
       "1  35.0  36.0  36.0  37.0  38.0  38.0  37.0  37.0       0  \n",
       "2  37.0  37.0  38.0  39.0  38.0  38.0  39.0  40.0       0  \n",
       "3  36.0  37.0  38.0  42.0  40.0  37.0  36.0  36.0       0  \n",
       "4  33.0  37.0  38.0  37.0  36.0  36.0  35.0  35.0       0  \n",
       "\n",
       "[5 rows x 2305 columns]"
      ]
     },
     "execution_count": 13,
     "metadata": {},
     "output_type": "execute_result"
    }
   ],
   "source": [
    "train_smpl = pd.concat([X, Y], axis=1)\n",
    "train_smpl.head()"
   ]
  },
  {
   "cell_type": "markdown",
   "metadata": {},
   "source": [
    "# 2. Data Randomisation"
   ]
  },
  {
   "cell_type": "markdown",
   "metadata": {},
   "source": [
    "## sklearn.utils.suffle"
   ]
  },
  {
   "cell_type": "code",
   "execution_count": 14,
   "metadata": {
    "pycharm": {
     "is_executing": false
    }
   },
   "outputs": [
    {
     "data": {
      "text/html": [
       "<div>\n",
       "<style scoped>\n",
       "    .dataframe tbody tr th:only-of-type {\n",
       "        vertical-align: middle;\n",
       "    }\n",
       "\n",
       "    .dataframe tbody tr th {\n",
       "        vertical-align: top;\n",
       "    }\n",
       "\n",
       "    .dataframe thead th {\n",
       "        text-align: right;\n",
       "    }\n",
       "</style>\n",
       "<table border=\"1\" class=\"dataframe\">\n",
       "  <thead>\n",
       "    <tr style=\"text-align: right;\">\n",
       "      <th></th>\n",
       "      <th>0</th>\n",
       "      <th>1</th>\n",
       "      <th>2</th>\n",
       "      <th>3</th>\n",
       "      <th>4</th>\n",
       "      <th>5</th>\n",
       "      <th>6</th>\n",
       "      <th>7</th>\n",
       "      <th>8</th>\n",
       "      <th>9</th>\n",
       "      <th>...</th>\n",
       "      <th>2295</th>\n",
       "      <th>2296</th>\n",
       "      <th>2297</th>\n",
       "      <th>2298</th>\n",
       "      <th>2299</th>\n",
       "      <th>2300</th>\n",
       "      <th>2301</th>\n",
       "      <th>2302</th>\n",
       "      <th>2303</th>\n",
       "      <th>target</th>\n",
       "    </tr>\n",
       "  </thead>\n",
       "  <tbody>\n",
       "    <tr>\n",
       "      <th>1236</th>\n",
       "      <td>25.0</td>\n",
       "      <td>24.0</td>\n",
       "      <td>28.0</td>\n",
       "      <td>27.0</td>\n",
       "      <td>24.0</td>\n",
       "      <td>22.0</td>\n",
       "      <td>22.0</td>\n",
       "      <td>22.0</td>\n",
       "      <td>21.0</td>\n",
       "      <td>21.0</td>\n",
       "      <td>...</td>\n",
       "      <td>34.0</td>\n",
       "      <td>33.0</td>\n",
       "      <td>34.0</td>\n",
       "      <td>36.0</td>\n",
       "      <td>35.0</td>\n",
       "      <td>35.0</td>\n",
       "      <td>34.0</td>\n",
       "      <td>34.0</td>\n",
       "      <td>35.0</td>\n",
       "      <td>0</td>\n",
       "    </tr>\n",
       "    <tr>\n",
       "      <th>8847</th>\n",
       "      <td>255.0</td>\n",
       "      <td>255.0</td>\n",
       "      <td>255.0</td>\n",
       "      <td>255.0</td>\n",
       "      <td>255.0</td>\n",
       "      <td>255.0</td>\n",
       "      <td>255.0</td>\n",
       "      <td>255.0</td>\n",
       "      <td>255.0</td>\n",
       "      <td>255.0</td>\n",
       "      <td>...</td>\n",
       "      <td>241.0</td>\n",
       "      <td>230.0</td>\n",
       "      <td>237.0</td>\n",
       "      <td>227.0</td>\n",
       "      <td>241.0</td>\n",
       "      <td>241.0</td>\n",
       "      <td>239.0</td>\n",
       "      <td>241.0</td>\n",
       "      <td>237.0</td>\n",
       "      <td>5</td>\n",
       "    </tr>\n",
       "    <tr>\n",
       "      <th>11285</th>\n",
       "      <td>34.0</td>\n",
       "      <td>34.0</td>\n",
       "      <td>34.0</td>\n",
       "      <td>33.0</td>\n",
       "      <td>32.0</td>\n",
       "      <td>31.0</td>\n",
       "      <td>31.0</td>\n",
       "      <td>30.0</td>\n",
       "      <td>30.0</td>\n",
       "      <td>30.0</td>\n",
       "      <td>...</td>\n",
       "      <td>16.0</td>\n",
       "      <td>14.0</td>\n",
       "      <td>12.0</td>\n",
       "      <td>11.0</td>\n",
       "      <td>11.0</td>\n",
       "      <td>11.0</td>\n",
       "      <td>13.0</td>\n",
       "      <td>17.0</td>\n",
       "      <td>19.0</td>\n",
       "      <td>8</td>\n",
       "    </tr>\n",
       "    <tr>\n",
       "      <th>12423</th>\n",
       "      <td>63.0</td>\n",
       "      <td>66.0</td>\n",
       "      <td>70.0</td>\n",
       "      <td>81.0</td>\n",
       "      <td>77.0</td>\n",
       "      <td>72.0</td>\n",
       "      <td>62.0</td>\n",
       "      <td>61.0</td>\n",
       "      <td>60.0</td>\n",
       "      <td>62.0</td>\n",
       "      <td>...</td>\n",
       "      <td>123.0</td>\n",
       "      <td>77.0</td>\n",
       "      <td>47.0</td>\n",
       "      <td>44.0</td>\n",
       "      <td>43.0</td>\n",
       "      <td>42.0</td>\n",
       "      <td>55.0</td>\n",
       "      <td>71.0</td>\n",
       "      <td>68.0</td>\n",
       "      <td>9</td>\n",
       "    </tr>\n",
       "    <tr>\n",
       "      <th>10020</th>\n",
       "      <td>38.0</td>\n",
       "      <td>39.0</td>\n",
       "      <td>40.0</td>\n",
       "      <td>50.0</td>\n",
       "      <td>61.0</td>\n",
       "      <td>72.0</td>\n",
       "      <td>93.0</td>\n",
       "      <td>138.0</td>\n",
       "      <td>185.0</td>\n",
       "      <td>233.0</td>\n",
       "      <td>...</td>\n",
       "      <td>62.0</td>\n",
       "      <td>68.0</td>\n",
       "      <td>68.0</td>\n",
       "      <td>81.0</td>\n",
       "      <td>98.0</td>\n",
       "      <td>86.0</td>\n",
       "      <td>73.0</td>\n",
       "      <td>68.0</td>\n",
       "      <td>65.0</td>\n",
       "      <td>6</td>\n",
       "    </tr>\n",
       "  </tbody>\n",
       "</table>\n",
       "<p>5 rows × 2305 columns</p>\n",
       "</div>"
      ],
      "text/plain": [
       "           0      1      2      3      4      5      6      7      8      9  \\\n",
       "1236    25.0   24.0   28.0   27.0   24.0   22.0   22.0   22.0   21.0   21.0   \n",
       "8847   255.0  255.0  255.0  255.0  255.0  255.0  255.0  255.0  255.0  255.0   \n",
       "11285   34.0   34.0   34.0   33.0   32.0   31.0   31.0   30.0   30.0   30.0   \n",
       "12423   63.0   66.0   70.0   81.0   77.0   72.0   62.0   61.0   60.0   62.0   \n",
       "10020   38.0   39.0   40.0   50.0   61.0   72.0   93.0  138.0  185.0  233.0   \n",
       "\n",
       "       ...   2295   2296   2297   2298   2299   2300   2301   2302   2303  \\\n",
       "1236   ...   34.0   33.0   34.0   36.0   35.0   35.0   34.0   34.0   35.0   \n",
       "8847   ...  241.0  230.0  237.0  227.0  241.0  241.0  239.0  241.0  237.0   \n",
       "11285  ...   16.0   14.0   12.0   11.0   11.0   11.0   13.0   17.0   19.0   \n",
       "12423  ...  123.0   77.0   47.0   44.0   43.0   42.0   55.0   71.0   68.0   \n",
       "10020  ...   62.0   68.0   68.0   81.0   98.0   86.0   73.0   68.0   65.0   \n",
       "\n",
       "       target  \n",
       "1236        0  \n",
       "8847        5  \n",
       "11285       8  \n",
       "12423       9  \n",
       "10020       6  \n",
       "\n",
       "[5 rows x 2305 columns]"
      ]
     },
     "execution_count": 14,
     "metadata": {},
     "output_type": "execute_result"
    }
   ],
   "source": [
    "train_smpl = shuffle(train_smpl, random_state=42)\n",
    "train_smpl_0 = shuffle(train_smpl_0, random_state=42)\n",
    "train_smpl_1 = shuffle(train_smpl_1, random_state=42)\n",
    "train_smpl_2 = shuffle(train_smpl_2, random_state=42)\n",
    "train_smpl_3 = shuffle(train_smpl_3, random_state=42)\n",
    "train_smpl_4 = shuffle(train_smpl_4, random_state=42)\n",
    "train_smpl_5 = shuffle(train_smpl_5, random_state=42)\n",
    "train_smpl_6 = shuffle(train_smpl_6, random_state=42)\n",
    "train_smpl_7 = shuffle(train_smpl_7, random_state=42)\n",
    "train_smpl_8 = shuffle(train_smpl_8, random_state=42)\n",
    "train_smpl_9 = shuffle(train_smpl_9, random_state=42)\n",
    "train_smpl.head()"
   ]
  },
  {
   "cell_type": "markdown",
   "metadata": {},
   "source": [
    "# class distribution"
   ]
  },
  {
   "cell_type": "code",
   "execution_count": 15,
   "metadata": {
    "pycharm": {
     "is_executing": false
    }
   },
   "outputs": [
    {
     "data": {
      "text/plain": [
       "(array([1410.,    0., 1860.,    0.,  420.,    0.,    0., 1320.,    0.,\n",
       "        2100.,    0., 2160.,    0.,    0.,  780.,    0.,  240.,    0.,\n",
       "        2070.,    0.,  300.]),\n",
       " array([0.        , 0.42857143, 0.85714286, 1.28571429, 1.71428571,\n",
       "        2.14285714, 2.57142857, 3.        , 3.42857143, 3.85714286,\n",
       "        4.28571429, 4.71428571, 5.14285714, 5.57142857, 6.        ,\n",
       "        6.42857143, 6.85714286, 7.28571429, 7.71428571, 8.14285714,\n",
       "        8.57142857, 9.        ]),\n",
       " <a list of 21 Patch objects>)"
      ]
     },
     "execution_count": 15,
     "metadata": {},
     "output_type": "execute_result"
    },
    {
     "data": {
      "image/png": "[encoded data removed]",
      "text/plain": [
       "<Figure size 432x288 with 1 Axes>"
      ]
     },
     "metadata": {
      "needs_background": "light"
     },
     "output_type": "display_data"
    }
   ],
   "source": [
    "#train_smpl.hist(column='target')\n",
    "plt.hist(Y['target'], bins='auto')"
   ]
  },
  {
   "cell_type": "code",
   "execution_count": 16,
   "metadata": {
    "pycharm": {
     "is_executing": false
    }
   },
   "outputs": [
    {
     "data": {
      "text/plain": [
       "5    2160\n",
       "4    2100\n",
       "8    2070\n",
       "1    1860\n",
       "0    1410\n",
       "3    1320\n",
       "6     780\n",
       "2     420\n",
       "9     300\n",
       "7     240\n",
       "Name: target, dtype: int64"
      ]
     },
     "execution_count": 16,
     "metadata": {},
     "output_type": "execute_result"
    }
   ],
   "source": [
    "train_smpl.target.value_counts()"
   ]
  },
  {
   "cell_type": "markdown",
   "metadata": {},
   "source": [
    "# 3. Reducing the size"
   ]
  },
  {
   "cell_type": "markdown",
   "metadata": {},
   "source": [
    "#### Because the data runs the data as a Python file, we do not need to reduce the size of our data set. \n",
    "\n"
   ]
  },
  {
   "cell_type": "code",
   "execution_count": 17,
   "metadata": {
    "pycharm": {
     "is_executing": false
    }
   },
   "outputs": [
    {
     "name": "stdout",
     "output_type": "stream",
     "text": [
      "<class 'pandas.core.frame.DataFrame'>\n",
      "Int64Index: 12660 entries, 1236 to 7270\n",
      "Columns: 2305 entries, 0 to target\n",
      "dtypes: float64(2304), int64(1)\n",
      "memory usage: 222.7 MB\n"
     ]
    }
   ],
   "source": [
    "train_smpl.info()"
   ]
  },
  {
   "cell_type": "code",
   "execution_count": 18,
   "metadata": {
    "pycharm": {
     "is_executing": false
    },
    "scrolled": true
   },
   "outputs": [],
   "source": [
    "from imblearn.over_sampling import RandomOverSampler, SMOTE\n",
    "from imblearn.under_sampling import RandomUnderSampler, NearMiss\n",
    "from imblearn.pipeline import make_pipeline"
   ]
  },
  {
   "cell_type": "code",
   "execution_count": 19,
   "metadata": {
    "pycharm": {
     "is_executing": false
    }
   },
   "outputs": [],
   "source": [
    "# ros = RandomOverSampler(random_state=0)\n",
    "# X_oversampled, y_oversampled = ros.fit_resample(X, Y['target'])\n",
    "# plt.hist(y_oversampled, bins='auto')"
   ]
  },
  {
   "cell_type": "code",
   "execution_count": 20,
   "metadata": {
    "pycharm": {
     "is_executing": false
    }
   },
   "outputs": [
    {
     "data": {
      "text/plain": [
       "(array([1000.,    0., 1000.,    0., 1000.,    0., 1000.,    0., 1000.,\n",
       "           0.,    0., 1000.,    0., 1000.,    0., 1000.,    0., 1000.,\n",
       "           0., 1000.]),\n",
       " array([0.  , 0.45, 0.9 , 1.35, 1.8 , 2.25, 2.7 , 3.15, 3.6 , 4.05, 4.5 ,\n",
       "        4.95, 5.4 , 5.85, 6.3 , 6.75, 7.2 , 7.65, 8.1 , 8.55, 9.  ]),\n",
       " <a list of 20 Patch objects>)"
      ]
     },
     "execution_count": 20,
     "metadata": {},
     "output_type": "execute_result"
    },
    {
     "data": {
      "image/png": "[encoded data removed]",
      "text/plain": [
       "<Figure size 432x288 with 1 Axes>"
      ]
     },
     "metadata": {
      "needs_background": "light"
     },
     "output_type": "display_data"
    }
   ],
   "source": [
    "\n",
    "oversample_ratio={2: 1000,  6: 1000, 7: 1000, 9: 1000}\n",
    "undersample_ratio={0: 1000, 1: 1000,  3: 1000, 4: 1000, 5: 1000, 8: 1000}\n",
    "pipe = make_pipeline(SMOTE(sampling_strategy=oversample_ratio, n_jobs=7), NearMiss(sampling_strategy=undersample_ratio, n_jobs=7))\n",
    "\n",
    "X_resampled, y_resampled = pipe.fit_resample(X, Y['target'])\n",
    "plt.hist(y_resampled, bins='auto')"
   ]
  },
  {
   "cell_type": "code",
   "execution_count": 21,
   "metadata": {
    "pycharm": {
     "is_executing": false
    }
   },
   "outputs": [],
   "source": [
    "\n",
    "# rus = RandomUnderSampler(random_state=0)\n",
    "# X_undersampled, y_undersampled = rus.fit_sample(X, Y)\n",
    "# plt.hist(y_undersampled, bins='auto')"
   ]
  },
  {
   "cell_type": "code",
   "execution_count": 22,
   "metadata": {
    "pycharm": {
     "is_executing": false
    }
   },
   "outputs": [],
   "source": [
    "# X_oversampled = pd.DataFrame(data=X_oversampled)\n",
    "# y_oversampled = pd.DataFrame(data=y_oversampled)\n",
    "# y_oversampled.columns=(['target'])\n",
    "# train_oversampled = pd.concat([X_oversampled, y_oversampled], axis=1)\n",
    "# train_oversampled = shuffle(train_oversampled, random_state=42)\n",
    "# train_oversampled.info()"
   ]
  },
  {
   "cell_type": "code",
   "execution_count": 23,
   "metadata": {
    "pycharm": {
     "is_executing": false
    }
   },
   "outputs": [
    {
     "name": "stdout",
     "output_type": "stream",
     "text": [
      "<class 'pandas.core.frame.DataFrame'>\n",
      "Int64Index: 10000 entries, 6252 to 7270\n",
      "Columns: 2305 entries, 0 to target\n",
      "dtypes: float64(2304), int64(1)\n",
      "memory usage: 175.9 MB\n"
     ]
    }
   ],
   "source": [
    "X_resampled = pd.DataFrame(data=X_resampled)\n",
    "y_resampled = pd.DataFrame(data=y_resampled)\n",
    "y_resampled.columns=(['target'])\n",
    "train_resampled = pd.concat([X_resampled, y_resampled], axis=1)\n",
    "train_resampled = shuffle(train_resampled, random_state=42)\n",
    "train_resampled.info()"
   ]
  },
  {
   "cell_type": "code",
   "execution_count": 24,
   "metadata": {
    "pycharm": {
     "is_executing": false
    }
   },
   "outputs": [],
   "source": [
    "# X_undersampled = pd.DataFrame(data=X_undersampled)\n",
    "# y_undersampled = pd.DataFrame(data=y_undersampled)\n",
    "# y_undersampled.columns=(['target'])\n",
    "# train_undersampled = pd.concat([X_undersampled, y_undersampled], axis=1)\n",
    "# train_undersampled = shuffle(train_undersampled, random_state=42)\n",
    "# train_undersampled.info()"
   ]
  },
  {
   "cell_type": "markdown",
   "metadata": {},
   "source": [
    "# 4 - 6: NB, Features/Attributes Selection, & Improving #5's Classification  "
   ]
  },
  {
   "cell_type": "markdown",
   "metadata": {},
   "source": [
    "## correlation matrix"
   ]
  },
  {
   "cell_type": "markdown",
   "metadata": {},
   "source": [
    "%matplotlib inline\n",
    "\n",
    "#plt.matshow(train_smpl.corr())\n",
    "#plt.show()"
   ]
  },
  {
   "cell_type": "code",
   "execution_count": 25,
   "metadata": {
    "pycharm": {
     "is_executing": false
    }
   },
   "outputs": [
    {
     "name": "stdout",
     "output_type": "stream",
     "text": [
      "train_smpl shape:(12660, 2305)\n",
      "train_smpl_20 shape:(10000, 21)\n",
      "train_smpl_50 shape:(10000, 51)\n",
      "train_smpl_100 shape:(10000, 101)\n"
     ]
    }
   ],
   "source": [
    "print(f\"train_smpl shape:{train_smpl.shape}\")\n",
    "\n",
    "best_20 = SelectKBest(chi2, k=20).fit_transform(train_resampled[train_resampled.columns[:2303]], train_resampled['target'])\n",
    "best_20 = pd.DataFrame(best_20)\n",
    "train_smpl_20 = pd.concat([best_20, train_resampled['target']], axis=1)\n",
    "print(f\"train_smpl_20 shape:{train_smpl_20.shape}\")\n",
    "\n",
    "best_50 = SelectKBest(chi2, k=50).fit_transform(train_resampled[train_resampled.columns[:2303]], train_resampled['target'])\n",
    "best_50 = pd.DataFrame(best_50)\n",
    "train_smpl_50 = pd.concat([best_50, train_resampled['target']], axis=1)\n",
    "print(f\"train_smpl_50 shape:{train_smpl_50.shape}\")\n",
    "\n",
    "best_100 = SelectKBest(chi2, k=100).fit_transform(train_resampled[train_resampled.columns[:2303]], train_resampled['target'])\n",
    "best_100 = pd.DataFrame(best_100)\n",
    "train_smpl_100 = pd.concat([best_100, train_resampled['target']], axis=1)\n",
    "print(f\"train_smpl_100 shape:{train_smpl_100.shape}\")\n"
   ]
  },
  {
   "cell_type": "markdown",
   "metadata": {},
   "source": [
    "# Test Train Split"
   ]
  },
  {
   "cell_type": "code",
   "execution_count": 26,
   "metadata": {
    "pycharm": {
     "is_executing": false
    }
   },
   "outputs": [],
   "source": [
    "X_train, X_test, y_train, y_test = train_test_split(train_smpl[train_smpl.columns[:2303]], train_smpl['target'], test_size=0.33, random_state=42)\n",
    "# X_train_ovr, X_test_ovr, y_train_ovr, y_test_ovr = train_test_split(train_oversampled[train_oversampled.columns[:2303]], train_oversampled['target'], test_size=0.33, random_state=42)\n",
    "X_train_res, X_test_res, y_train_res, y_test_res = train_test_split(train_resampled[train_resampled.columns[:2303]], train_resampled['target'], test_size=0.33, random_state=42)\n",
    "# X_train_udr, X_test_udr, y_train_udr, y_test_udr = train_test_split(train_undersampled[train_undersampled.columns[:2303]], train_undersampled['target'], test_size=0.33, random_state=42)\n",
    "\n",
    "X_train_20, X_test_20, y_train_20, y_test_20 = train_test_split(train_smpl_20[train_smpl_20.columns[:20]], train_smpl_20['target'], test_size=0.33, random_state=42)\n",
    "X_train_50, X_test_50, y_train_50, y_test_50 = train_test_split(train_smpl_50[train_smpl_50.columns[:50]], train_smpl_50['target'], test_size=0.33, random_state=42)\n",
    "X_train_100, X_test_100, y_train_100, y_test_100 = train_test_split(train_smpl_100[train_smpl_100.columns[:100]], train_smpl_100['target'], test_size=0.33, random_state=42)"
   ]
  },
  {
   "cell_type": "markdown",
   "metadata": {},
   "source": [
    "# Modeling"
   ]
  },
  {
   "cell_type": "markdown",
   "metadata": {},
   "source": [
    "## 4. Multinomial Naive Bayes model (multi-class classifier)"
   ]
  },
  {
   "cell_type": "markdown",
   "metadata": {},
   "source": [
    "### Before Features/Attributes Selection"
   ]
  },
  {
   "cell_type": "code",
   "execution_count": 27,
   "metadata": {
    "pycharm": {
     "is_executing": false
    }
   },
   "outputs": [],
   "source": [
    "# In regards to problem 4: Because we are not using Weka, we did not need to apply any\n",
    "# filters to the data before running Naive Bayes"
   ]
  },
  {
   "cell_type": "markdown",
   "metadata": {},
   "source": [
    "### Full data set"
   ]
  },
  {
   "cell_type": "code",
   "execution_count": 28,
   "metadata": {
    "pycharm": {
     "is_executing": false
    }
   },
   "outputs": [
    {
     "data": {
      "text/plain": [
       "0.4595500239348971"
      ]
     },
     "execution_count": 28,
     "metadata": {},
     "output_type": "execute_result"
    }
   ],
   "source": [
    "clf = MultinomialNB()\n",
    "clf.fit(X_train, y_train)\n",
    "clf.score(X_test, y_test)"
   ]
  },
  {
   "cell_type": "code",
   "execution_count": 29,
   "metadata": {
    "pycharm": {
     "is_executing": false
    }
   },
   "outputs": [],
   "source": [
    "# from sklearn.naive_bayes import MultinomialNB\n",
    "# clf = MultinomialNB()\n",
    "# clf.fit(X_train_ovr, y_train_ovr)\n",
    "# clf.score(X_test_ovr, y_test_ovr)"
   ]
  },
  {
   "cell_type": "markdown",
   "metadata": {},
   "source": [
    "### Resampled data set"
   ]
  },
  {
   "cell_type": "code",
   "execution_count": 76,
   "metadata": {
    "pycharm": {
     "is_executing": false
    }
   },
   "outputs": [
    {
     "data": {
      "text/plain": [
       "0.6206060606060606"
      ]
     },
     "execution_count": 76,
     "metadata": {},
     "output_type": "execute_result"
    }
   ],
   "source": [
    "clf = MultinomialNB()\n",
    "clf.fit(X_train_res, y_train_res)\n",
    "clf.score(X_test_res, y_test_res)"
   ]
  },
  {
   "cell_type": "code",
   "execution_count": 31,
   "metadata": {
    "pycharm": {
     "is_executing": false
    }
   },
   "outputs": [],
   "source": [
    "# from sklearn.naive_bayes import MultinomialNB\n",
    "# clf = MultinomialNB()\n",
    "# clf.fit(X_train_udr, y_train_udr)\n",
    "# clf.score(X_test_udr, y_test_udr)"
   ]
  },
  {
   "cell_type": "code",
   "execution_count": 32,
   "metadata": {
    "pycharm": {
     "is_executing": false
    }
   },
   "outputs": [],
   "source": [
    "#Original data set\n",
    "y_pred = clf.predict(X_test)\n",
    "conf_mat = confusion_matrix(y_test, y_pred)\n",
    "\n",
    "#Resampled data set\n",
    "y_pred_res = clf.predict(X_test_res)\n",
    "conf_mat_res = confusion_matrix(y_test_res, y_pred_res)"
   ]
  },
  {
   "cell_type": "code",
   "execution_count": 33,
   "metadata": {
    "pycharm": {
     "is_executing": false
    }
   },
   "outputs": [],
   "source": [
    "def plot_confusion_matrix(cm,\n",
    "                          target_names,\n",
    "                          title='Confusion matrix',\n",
    "                          cmap=None,\n",
    "                          normalize=True):\n",
    "    \"\"\"\n",
    "        https://stackoverflow.com/a/50386871\n",
    "    \"\"\"\n",
    "\n",
    "    accuracy = np.trace(cm) / float(np.sum(cm))\n",
    "    misclass = 1 - accuracy\n",
    "\n",
    "    if cmap is None:\n",
    "        cmap = plt.get_cmap('Blues')\n",
    "\n",
    "    plt.figure(figsize=(8, 6))\n",
    "    plt.imshow(cm, interpolation='nearest', cmap=cmap)\n",
    "    plt.title(title)\n",
    "    plt.colorbar()\n",
    "\n",
    "    if target_names is not None:\n",
    "        tick_marks = np.arange(len(target_names))\n",
    "        plt.xticks(tick_marks, target_names, rotation=45)\n",
    "        plt.yticks(tick_marks, target_names)\n",
    "\n",
    "    if normalize:\n",
    "        cm = cm.astype('float') / cm.sum(axis=1)[:, np.newaxis]\n",
    "\n",
    "\n",
    "    thresh = cm.max() / 1.5 if normalize else cm.max() / 2\n",
    "    for i, j in itertools.product(range(cm.shape[0]), range(cm.shape[1])):\n",
    "        if normalize:\n",
    "            plt.text(j, i, \"{:0.4f}\".format(cm[i, j]),\n",
    "                     horizontalalignment=\"center\",\n",
    "                     color=\"white\" if cm[i, j] > thresh else \"black\")\n",
    "        else:\n",
    "            plt.text(j, i, \"{:,}\".format(cm[i, j]),\n",
    "                     horizontalalignment=\"center\",\n",
    "                     color=\"white\" if cm[i, j] > thresh else \"black\")\n",
    "\n",
    "\n",
    "    plt.tight_layout()\n",
    "    plt.ylabel('True label')\n",
    "    plt.xlabel('Predicted label\\naccuracy={:0.4f}; misclass={:0.4f}'.format(accuracy, misclass))\n",
    "    plt.show()"
   ]
  },
  {
   "cell_type": "code",
   "execution_count": 68,
   "metadata": {
    "pycharm": {
     "is_executing": false
    }
   },
   "outputs": [
    {
     "data": {
      "image/png": "[encoded data removed]",
      "text/plain": [
       "<Figure size 576x432 with 2 Axes>"
      ]
     },
     "metadata": {
      "needs_background": "light"
     },
     "output_type": "display_data"
    }
   ],
   "source": [
    "#Original data set\n",
    "plot_confusion_matrix(conf_mat, target_names=y_test.unique())"
   ]
  },
  {
   "cell_type": "code",
   "execution_count": 35,
   "metadata": {
    "pycharm": {
     "is_executing": false
    }
   },
   "outputs": [
    {
     "data": {
      "image/png": "[encoded data removed]",
      "text/plain": [
       "<Figure size 576x432 with 2 Axes>"
      ]
     },
     "metadata": {
      "needs_background": "light"
     },
     "output_type": "display_data"
    }
   ],
   "source": [
    "#Resampled data set\n",
    "plot_confusion_matrix(conf_mat_res, target_names=y_test_res.unique())"
   ]
  },
  {
   "cell_type": "code",
   "execution_count": 37,
   "metadata": {
    "pycharm": {
     "is_executing": false
    },
    "scrolled": true
   },
   "outputs": [
    {
     "name": "stdout",
     "output_type": "stream",
     "text": [
      "0 290\n",
      "1 353\n",
      "2 25\n",
      "3 13\n",
      "4 30\n",
      "5 5\n",
      "6 649\n",
      "7 285\n",
      "8 367\n",
      "9 63\n"
     ]
    }
   ],
   "source": [
    "# looking for devious class labels that take high numbers of misclassifications\n",
    "for i in range(conf_mat.shape[1]):\n",
    "    column = conf_mat.T[i]\n",
    "    misclassifications = column.sum() - column[i]\n",
    "    print(i,misclassifications)"
   ]
  },
  {
   "cell_type": "code",
   "execution_count": 38,
   "metadata": {
    "pycharm": {
     "is_executing": false
    },
    "scrolled": true
   },
   "outputs": [
    {
     "name": "stdout",
     "output_type": "stream",
     "text": [
      "0 226\n",
      "1 294\n",
      "2 12\n",
      "3 8\n",
      "4 26\n",
      "5 3\n",
      "6 190\n",
      "7 195\n",
      "8 251\n",
      "9 47\n"
     ]
    }
   ],
   "source": [
    "# looking for devious class labels that take high numbers of misclassifications\n",
    "for i in range(conf_mat_res.shape[1]):\n",
    "    column = conf_mat_res.T[i]\n",
    "    misclassifications = column.sum() - column[i]\n",
    "    print(i,misclassifications)"
   ]
  },
  {
   "cell_type": "markdown",
   "metadata": {},
   "source": [
    "## 5. For each of the 10 train_smpl_label files, record the first 10 fields, in order of the absolute correlation value for each street sign."
   ]
  },
  {
   "cell_type": "markdown",
   "metadata": {},
   "source": [
    "## Original data set"
   ]
  },
  {
   "cell_type": "code",
   "execution_count": 74,
   "metadata": {
    "pycharm": {
     "is_executing": false
    }
   },
   "outputs": [
    {
     "name": "stdout",
     "output_type": "stream",
     "text": [
      "File 0:\n",
      "10 Largest Correlation Values\n",
      "[(0.26979280763893154, 1172), (0.2611057461694063, 1171), (0.25621810693829544, 1468), (0.2532183157062715, 1220), (0.25125887560506865, 1472), (0.24739078010850277, 1221), (0.24628585783977175, 1123), (0.24522400371024533, 1469), (0.2445111050410754, 1419), (0.24358673753047375, 1519)]\n",
      "10 Smallest Correlation Values\n",
      "[(0.0021746453030316456, 444), (0.0021551719445530963, 1156), (0.0017883815233756448, 318), (0.0016318487278948685, 491), (0.0011637229483800198, 917), (0.0011256887248363213, 810), (0.0009688396662611938, 418), (0.0008167816078680007, 1581), (0.0003578060426017004, 1630), (1.2299372464829282e-05, 1679)]\n",
      "File 1:\n",
      "10 Largest Correlation Values\n",
      "[(0.25768774160650665, 1094), (0.25720887229012923, 1046), (0.2552925662784085, 1172), (0.25413619996221193, 1142), (0.2538381786322228, 998), (0.24817253165644707, 1190), (0.24760729646175073, 1173), (0.24692877639193458, 997), (0.24635547403592295, 981), (0.24629307447129617, 1045)]\n",
      "10 Smallest Correlation Values\n",
      "[(0.017496655821998483, 1559), (0.016332898547929596, 1610), (0.015880215313366485, 1560), (0.012624748921475342, 1606), (0.0102689455091407, 1609), (0.01013932025073181, 1605), (0.00830777020879839, 1607), (0.007102769088456059, 1655), (0.004949564692228333, 1608), (0.0006299318591002823, 1654)]\n",
      "File 2:\n",
      "10 Largest Correlation Values\n",
      "[(0.17816392596581987, 1084), (0.17691996851011754, 1132), (0.17660758568406917, 1083), (0.1765417804667745, 1131), (0.17569646687476115, 1082), (0.17553269425482732, 1130), (0.1754647415454543, 1036), (0.17454742803799844, 1081), (0.17390553024503005, 1179), (0.17366574608784585, 1035)]\n",
      "10 Smallest Correlation Values\n",
      "[(0.03809569286819747, 1619), (0.03770577867602379, 1802), (0.03766112128390172, 1848), (0.03715786452139658, 1804), (0.036985959781138875, 1851), (0.03673773740458018, 1524), (0.03655430483582481, 1849), (0.03628386366586834, 1803), (0.03574090975587806, 1850), (0.035070411656915754, 1572)]\n",
      "File 3:\n",
      "10 Largest Correlation Values\n",
      "[(0.3705147461901287, 1696), (0.36820901990672333, 1697), (0.3631163206048219, 1648), (0.3565442944816902, 1649), (0.3502287976953089, 1695), (0.3475899718152798, 1698), (0.3437015931959833, 1745), (0.3422142246625163, 1744), (0.34212436870512863, 1713), (0.3400947165128231, 1712)]\n",
      "10 Smallest Correlation Values\n",
      "[(0.00025721759727223917, 322), (0.0002565617022869673, 908), (0.0002300208099968704, 2054), (0.00022189637337198228, 505), (0.00020065675608650548, 2137), (0.00019468123765650248, 479), (0.00015340264084054336, 186), (0.00010572492860327042, 2229), (6.46009105414935e-05, 905), (6.280946901767955e-05, 1101)]\n",
      "File 4:\n",
      "10 Largest Correlation Values\n",
      "[(0.3820505742000424, 1849), (0.37220281655506415, 1850), (0.36860585221602427, 1848), (0.3628772506821327, 1897), (0.3498461744807614, 1801), (0.3469681929341859, 1802), (0.34574133071348656, 1898), (0.34334467103234556, 1800), (0.34208142160911237, 1896), (0.33466464107272265, 1043)]\n",
      "10 Smallest Correlation Values\n",
      "[(0.00018544023672076347, 719), (0.00018028674146908057, 2072), (0.00017609081756009726, 1123), (0.00016610634306507598, 1878), (0.00014983265265239602, 1980), (0.00012887220798711487, 440), (5.718706622816422e-05, 419), (4.850790984150502e-05, 1935), (1.9551348772259367e-05, 718), (1.939743270842594e-05, 35)]\n",
      "File 5:\n",
      "10 Largest Correlation Values\n",
      "[(0.4651815573726523, 1319), (0.46196946307652287, 1367), (0.44634221163727894, 1271), (0.4451197392000752, 1368), (0.44419025569942383, 1270), (0.4421611198794486, 1318), (0.4340072637308201, 1320), (0.4333067598071811, 1415), (0.43214738566156263, 1416), (0.42744671945609614, 1222)]\n",
      "10 Smallest Correlation Values\n",
      "[(0.0009136788188070614, 441), (0.0008455648723146043, 1568), (0.0008163935555218832, 661), (0.0006907381949474998, 877), (0.0006881683846545437, 536), (0.000683644668548642, 1706), (0.000608267814832295, 372), (0.0004573830989519252, 1897), (0.00035232826836375814, 1312), (0.00012938131593848157, 488)]\n",
      "File 6:\n",
      "10 Largest Correlation Values\n",
      "[(0.26638310938179244, 1186), (0.2660473947256674, 1738), (0.25985781143427894, 1934), (0.25785797279582817, 1737), (0.25779288959820684, 1786), (0.2567538308497753, 1787), (0.25628391545719886, 1885), (0.25512014434465946, 1689), (0.25394543524796487, 1983), (0.2479945445968056, 1688)]\n",
      "10 Smallest Correlation Values\n",
      "[(0.001081239188759425, 460), (0.0010348643543104635, 1119), (0.001030105282933078, 1508), (0.0006793037589684027, 459), (0.0006106739656472201, 1087), (0.0006079301969217244, 544), (0.0004992698049574459, 457), (0.00045172089667839307, 1336), (0.00027049899927604265, 1810), (0.00024232816597532028, 1168)]\n",
      "File 7:\n",
      "10 Largest Correlation Values\n",
      "[(0.13600701592857342, 1168), (0.1341294069081517, 1120), (0.12899233824685907, 1169), (0.12898206274903617, 1119), (0.12671569589224593, 1167), (0.12564377847436653, 1121), (0.12395822315450757, 1216), (0.12111467663724232, 1072), (0.11931667308492991, 1071), (0.11584262498000986, 1215)]\n",
      "10 Smallest Correlation Values\n",
      "[(0.0007103351867242744, 1546), (0.0006680939500957293, 402), (0.0006451692842376728, 1744), (0.0005654692673660901, 47), (0.0005247674555766571, 938), (0.00044986619907566735, 1134), (0.00041100948543376604, 589), (0.00025984509953734655, 1079), (0.00013295566453874362, 825), (2.8587441100597945e-05, 1597)]\n",
      "File 8:\n",
      "10 Largest Correlation Values\n",
      "[(0.2487468603998711, 1280), (0.24392823124538232, 1232), (0.2372945842543333, 1328), (0.22078340060268445, 1184), (0.22028035335101492, 1375), (0.21541494164537925, 1376), (0.21476632315106636, 1327), (0.2139622861535726, 1470), (0.2138650885626619, 1423), (0.20882218643505873, 1422)]\n",
      "10 Smallest Correlation Values\n",
      "[(0.0007022401189984723, 555), (0.0006005174742515877, 1319), (0.0004373563274467384, 871), (0.00042701393714349406, 312), (0.00040312726122880387, 538), (0.00019146738142019758, 267), (0.00016123261350353734, 621), (0.00016010058741264613, 552), (0.0001325720135703693, 425), (0.00010215916556568973, 927)]\n",
      "File 9:\n",
      "10 Largest Correlation Values\n",
      "[(0.2064955980493538, 1362), (0.20225442754928638, 1410), (0.19894325476238328, 1363), (0.19794406965640043, 1364), (0.196201668641257, 1411), (0.19249970214533224, 1365), (0.18804330479889292, 1412), (0.18604848727371176, 1317), (0.18596677576867437, 1318), (0.18576252795774817, 1413)]\n",
      "10 Smallest Correlation Values\n",
      "[(0.0002224820520457544, 663), (0.00020739987916211945, 2061), (0.00013760533082434953, 1156), (0.0001228750237136384, 860), (0.00012213031793366618, 1388), (0.00010481539344220272, 611), (4.245955354215906e-05, 811), (4.1511466464955356e-05, 648), (2.9756016011342132e-05, 1590), (4.913424099153418e-06, 564)]\n"
     ]
    }
   ],
   "source": [
    "fileList = [train_smpl_0, train_smpl_1, train_smpl_2, train_smpl_3, train_smpl_4,\n",
    "            train_smpl_5, train_smpl_6, train_smpl_7, train_smpl_8, train_smpl_9]\n",
    "for f, file in enumerate(fileList):\n",
    "    corrArr = []\n",
    "    for j in file.columns[:-1]:\n",
    "        corrVal, pVal = stats.pearsonr(file.iloc[:, int(j)], file.iloc[:, -1])\n",
    "        # Record the absolute value of the correlation\n",
    "        corrArr.append(math.fabs(corrVal))\n",
    "    print(f\"File {f}:\")\n",
    "    print(\"10 Largest Correlation Values\")\n",
    "    print(sorted([(x, i) for (i, x) in enumerate(corrArr)], reverse=True)[:10])\n",
    "    print(\"10 Smallest Correlation Values\")\n",
    "    print(sorted([(x, i) for (i, x) in enumerate(corrArr)], reverse=True)[-10:])"
   ]
  },
  {
   "cell_type": "markdown",
   "metadata": {},
   "source": [
    "## 6. Naive Bayes using select features (20, 50, 100)"
   ]
  },
  {
   "cell_type": "markdown",
   "metadata": {},
   "source": [
    "### Methods to run NB:"
   ]
  },
  {
   "cell_type": "code",
   "execution_count": 79,
   "metadata": {
    "pycharm": {
     "is_executing": false
    }
   },
   "outputs": [],
   "source": [
    "def run_multi_nb_binary(data, num_feat, class_num):\n",
    "    X_train_2, X_test_2, y_train_2, y_test_2 = train_test_split(data[data.columns[:2303]], data['target'],\n",
    "                                                                test_size=0.33, random_state=42)\n",
    "    clf = MultinomialNB()\n",
    "    clf.fit(X_train_2, y_train_2)\n",
    "    print(f\"Multinomial for Binary NB Best {num_feat}0: Class {class_num}: {clf.score(X_test_2, y_test_2)}\")\n",
    "\n",
    "def run_multi_nb(data, num_feat):\n",
    "    X_train_2, X_test_2, y_train_2, y_test_2 = train_test_split(data[data.columns[:2303]], data['target'],\n",
    "                                                                test_size=0.33, random_state=42)\n",
    "    clf = MultinomialNB()\n",
    "    clf.fit(X_train_2, y_train_2)\n",
    "    print(f\"Multinomial NB Best {num_feat}0: {clf.score(X_test_2, y_test_2)}\")\n",
    "    \n",
    "from sklearn.naive_bayes import GaussianNB\n",
    "def run_gaus_nb(data, num_feat):\n",
    "    X_train_2, X_test_2, y_train_2, y_test_2 = train_test_split(data[data.columns[:2303]], data['target'],\n",
    "                                                                test_size=0.33, random_state=42)\n",
    "    clf = GaussianNB()\n",
    "    clf.fit(X_train_2, y_train_2)\n",
    "    print(f\"Multinomial NB Best {num_feat}0: {clf.score(X_test_2, y_test_2)}\")\n",
    "    \n",
    "def run_gaus_nb_binary(data, num_feat, class_num):\n",
    "    X_train_2, X_test_2, y_train_2, y_test_2 = train_test_split(data[data.columns[:2303]], data['target'],\n",
    "                                                                test_size=0.33, random_state=42)\n",
    "    clf = GaussianNB()\n",
    "    clf.fit(X_train_2, y_train_2)\n",
    "    print(f\"Multinomial for Binary NB Best {num_feat}0: Class {class_num}: {clf.score(X_test_2, y_test_2)}\")\n"
   ]
  },
  {
   "cell_type": "markdown",
   "metadata": {},
   "source": [
    "### 6. Select top 2, 5, and 10 features for all train_smpl_label files to create best 20, 50, and 100 sets for all 10 classes - using original datasets"
   ]
  },
  {
   "cell_type": "markdown",
   "metadata": {},
   "source": [
    "### Original data set"
   ]
  },
  {
   "cell_type": "code",
   "execution_count": 44,
   "metadata": {
    "pycharm": {
     "is_executing": false
    },
    "scrolled": true
   },
   "outputs": [
    {
     "name": "stdout",
     "output_type": "stream",
     "text": [
      "\n",
      "Binary NB Classifier 750:\n",
      " __________________________________\n",
      "Multinomial for Binary NB Best 750: Class 0: 0.8516036381043561\n",
      "Multinomial for Binary NB Best 750: Class 1: 0.7932024892292963\n",
      "Multinomial for Binary NB Best 750: Class 2: 0.9344183820009574\n",
      "Multinomial for Binary NB Best 750: Class 3: 0.9736716132120632\n",
      "Multinomial for Binary NB Best 750: Class 4: 0.8291048348492102\n",
      "Multinomial for Binary NB Best 750: Class 5: 0.9241263762565821\n",
      "Multinomial for Binary NB Best 750: Class 6: 0.9119195787458114\n",
      "Multinomial for Binary NB Best 750: Class 7: 0.8544758257539492\n",
      "Multinomial for Binary NB Best 750: Class 8: 0.9207754906653901\n",
      "Multinomial for Binary NB Best 750: Class 9: 0.8975586404978458\n",
      "\n",
      "Multilabel NB Classifier 750:\n",
      " __________________________________\n",
      "Multinomial NB Best 750: 0.7501196744853997\n"
     ]
    }
   ],
   "source": [
    "bestSet = [2, 5, 10, 75]\n",
    "\n",
    "for i, num in enumerate(bestSet):\n",
    "    k_best_list = pd.DataFrame()\n",
    "    # Get top k for each 10 classes\n",
    "    for f, file in enumerate(fileList):\n",
    "        k_best = SelectKBest(chi2, k=num).fit_transform(file[file.columns[:2303]], file['target'])\n",
    "        k_best = pd.DataFrame(k_best)\n",
    "        k_best_list = pd.concat([k_best_list, k_best], axis=1)\n",
    "        # print(k_best_list.head())\n",
    "\n",
    "    print(f\"\\nBinary NB Classifier {num}0:\\n __________________________________\")\n",
    "    # run binary NB classifiers for each class\n",
    "    for f, file in enumerate(fileList):\n",
    "        k_best_binary = pd.concat([k_best_list, file['target'].reset_index()], axis=1)\n",
    "        # print(f\"K BEST BINARY: {k_best_binary}\")\n",
    "        run_multi_nb_binary(k_best_binary, num, f)\n",
    "\n",
    "    print(f\"\\nMultilabel NB Classifier {num}0:\\n __________________________________\")\n",
    "    k_best_multi = pd.concat([k_best_list, train_smpl['target'].reset_index()], axis=1)\n",
    "    # print(f\"K BEST MULTI: {k_best_multi}\")\n",
    "    run_multi_nb(k_best_multi, num)"
   ]
  },
  {
   "cell_type": "markdown",
   "metadata": {},
   "source": [
    "## #Bonus part: running tests 5&6 on the resampled smpl_label dataset"
   ]
  },
  {
   "cell_type": "markdown",
   "metadata": {},
   "source": [
    "## Create the resampled train_smpl_label datasets:"
   ]
  },
  {
   "cell_type": "code",
   "execution_count": 48,
   "metadata": {},
   "outputs": [
    {
     "data": {
      "text/plain": [
       "[              0          1           2           3           4           5  \\\n",
       " 0     19.000000  13.000000   11.000000   11.000000   11.000000   10.000000   \n",
       " 1      9.000000  10.000000    9.000000    9.000000    9.000000    9.000000   \n",
       " 2     16.000000  16.000000   16.000000   15.000000   15.000000   15.000000   \n",
       " 3     15.000000  15.000000   15.000000   15.000000   15.000000   15.000000   \n",
       " 4     10.000000  10.000000    9.000000    9.000000    9.000000    8.000000   \n",
       " ...         ...        ...         ...         ...         ...         ...   \n",
       " 9995  78.693133  60.863341   46.654663   44.481995   46.206218   47.654663   \n",
       " 9996  88.977450  97.092585  111.218994  138.620772  155.677146  158.975064   \n",
       " 9997  35.684745  40.969591   47.975673   57.284845   61.157627   55.587936   \n",
       " 9998  55.457952  50.514016   52.654177   55.084097   62.373855   72.766306   \n",
       " 9999  70.750439  64.375805   67.625366   74.250146   79.749268   92.247805   \n",
       " \n",
       "                6           7           8           9  ...        2295  \\\n",
       " 0      13.000000   20.000000   19.000000   19.000000  ...   11.000000   \n",
       " 1       9.000000   10.000000   10.000000   11.000000  ...   11.000000   \n",
       " 2      14.000000   14.000000   14.000000   14.000000  ...   13.000000   \n",
       " 3      14.000000   14.000000   14.000000   14.000000  ...   13.000000   \n",
       " 4       9.000000    9.000000    9.000000    9.000000  ...    9.000000   \n",
       " ...          ...         ...         ...         ...  ...         ...   \n",
       " 9995   49.654663   51.275777   53.275777   53.896891  ...  135.657123   \n",
       " 9996  163.722245  168.595836  172.343017  180.331743  ...   26.011275   \n",
       " 9997   47.442473   37.866700   29.860618   24.424227  ...   33.545364   \n",
       " 9998   64.654177   55.514016   49.401887   52.345823  ...   28.485984   \n",
       " 9999  133.869658  151.368780  232.361755  186.365853  ...  234.001756   \n",
       " \n",
       "             2296        2297        2298        2299        2300        2301  \\\n",
       " 0      11.000000   11.000000   11.000000   11.000000   11.000000   12.000000   \n",
       " 1      10.000000   10.000000   10.000000   10.000000   10.000000   10.000000   \n",
       " 2      14.000000   13.000000   13.000000   13.000000   13.000000   12.000000   \n",
       " 3      13.000000   12.000000   12.000000   13.000000   13.000000   13.000000   \n",
       " 4       9.000000    8.000000    8.000000    7.000000    8.000000    8.000000   \n",
       " ...          ...         ...         ...         ...         ...         ...   \n",
       " 9995  141.381346  142.829792  139.554014  134.278237  128.002460  122.484455   \n",
       " 9996   25.252819   24.747181   25.747181   29.367953   32.241544   34.367953   \n",
       " 9997   32.545364   32.260518   32.405982   32.551445   32.696909   33.842373   \n",
       " 9998   29.485984   31.000000   32.056064   30.626145   28.598113   29.514016   \n",
       " 9999  231.376976  233.126829  211.253659  218.253073  241.001171  250.625366   \n",
       " \n",
       "             2302        2303  target  \n",
       " 0      11.000000   11.000000       1  \n",
       " 1      10.000000    9.000000       1  \n",
       " 2      12.000000   12.000000       1  \n",
       " 3      13.000000   13.000000       1  \n",
       " 4       8.000000    8.000000       1  \n",
       " ...          ...         ...     ...  \n",
       " 9995  116.690673  113.345337       1  \n",
       " 9996   37.367953   38.620772       1  \n",
       " 9997   34.272682   35.418145       1  \n",
       " 9998   30.943936   31.887871       0  \n",
       " 9999  250.625366  247.125659       1  \n",
       " \n",
       " [10000 rows x 2305 columns],\n",
       "               0          1           2           3           4           5  \\\n",
       " 0     19.000000  13.000000   11.000000   11.000000   11.000000   10.000000   \n",
       " 1      9.000000  10.000000    9.000000    9.000000    9.000000    9.000000   \n",
       " 2     16.000000  16.000000   16.000000   15.000000   15.000000   15.000000   \n",
       " 3     15.000000  15.000000   15.000000   15.000000   15.000000   15.000000   \n",
       " 4     10.000000  10.000000    9.000000    9.000000    9.000000    8.000000   \n",
       " ...         ...        ...         ...         ...         ...         ...   \n",
       " 9995  78.693133  60.863341   46.654663   44.481995   46.206218   47.654663   \n",
       " 9996  88.977450  97.092585  111.218994  138.620772  155.677146  158.975064   \n",
       " 9997  35.684745  40.969591   47.975673   57.284845   61.157627   55.587936   \n",
       " 9998  55.457952  50.514016   52.654177   55.084097   62.373855   72.766306   \n",
       " 9999  70.750439  64.375805   67.625366   74.250146   79.749268   92.247805   \n",
       " \n",
       "                6           7           8           9  ...        2295  \\\n",
       " 0      13.000000   20.000000   19.000000   19.000000  ...   11.000000   \n",
       " 1       9.000000   10.000000   10.000000   11.000000  ...   11.000000   \n",
       " 2      14.000000   14.000000   14.000000   14.000000  ...   13.000000   \n",
       " 3      14.000000   14.000000   14.000000   14.000000  ...   13.000000   \n",
       " 4       9.000000    9.000000    9.000000    9.000000  ...    9.000000   \n",
       " ...          ...         ...         ...         ...  ...         ...   \n",
       " 9995   49.654663   51.275777   53.275777   53.896891  ...  135.657123   \n",
       " 9996  163.722245  168.595836  172.343017  180.331743  ...   26.011275   \n",
       " 9997   47.442473   37.866700   29.860618   24.424227  ...   33.545364   \n",
       " 9998   64.654177   55.514016   49.401887   52.345823  ...   28.485984   \n",
       " 9999  133.869658  151.368780  232.361755  186.365853  ...  234.001756   \n",
       " \n",
       "             2296        2297        2298        2299        2300        2301  \\\n",
       " 0      11.000000   11.000000   11.000000   11.000000   11.000000   12.000000   \n",
       " 1      10.000000   10.000000   10.000000   10.000000   10.000000   10.000000   \n",
       " 2      14.000000   13.000000   13.000000   13.000000   13.000000   12.000000   \n",
       " 3      13.000000   12.000000   12.000000   13.000000   13.000000   13.000000   \n",
       " 4       9.000000    8.000000    8.000000    7.000000    8.000000    8.000000   \n",
       " ...          ...         ...         ...         ...         ...         ...   \n",
       " 9995  141.381346  142.829792  139.554014  134.278237  128.002460  122.484455   \n",
       " 9996   25.252819   24.747181   25.747181   29.367953   32.241544   34.367953   \n",
       " 9997   32.545364   32.260518   32.405982   32.551445   32.696909   33.842373   \n",
       " 9998   29.485984   31.000000   32.056064   30.626145   28.598113   29.514016   \n",
       " 9999  231.376976  233.126829  211.253659  218.253073  241.001171  250.625366   \n",
       " \n",
       "             2302        2303  target  \n",
       " 0      11.000000   11.000000       1  \n",
       " 1      10.000000    9.000000       1  \n",
       " 2      12.000000   12.000000       0  \n",
       " 3      13.000000   13.000000       1  \n",
       " 4       8.000000    8.000000       1  \n",
       " ...          ...         ...     ...  \n",
       " 9995  116.690673  113.345337       1  \n",
       " 9996   37.367953   38.620772       1  \n",
       " 9997   34.272682   35.418145       1  \n",
       " 9998   30.943936   31.887871       1  \n",
       " 9999  250.625366  247.125659       1  \n",
       " \n",
       " [10000 rows x 2305 columns],\n",
       "               0          1           2           3           4           5  \\\n",
       " 0     19.000000  13.000000   11.000000   11.000000   11.000000   10.000000   \n",
       " 1      9.000000  10.000000    9.000000    9.000000    9.000000    9.000000   \n",
       " 2     16.000000  16.000000   16.000000   15.000000   15.000000   15.000000   \n",
       " 3     15.000000  15.000000   15.000000   15.000000   15.000000   15.000000   \n",
       " 4     10.000000  10.000000    9.000000    9.000000    9.000000    8.000000   \n",
       " ...         ...        ...         ...         ...         ...         ...   \n",
       " 9995  78.693133  60.863341   46.654663   44.481995   46.206218   47.654663   \n",
       " 9996  88.977450  97.092585  111.218994  138.620772  155.677146  158.975064   \n",
       " 9997  35.684745  40.969591   47.975673   57.284845   61.157627   55.587936   \n",
       " 9998  55.457952  50.514016   52.654177   55.084097   62.373855   72.766306   \n",
       " 9999  70.750439  64.375805   67.625366   74.250146   79.749268   92.247805   \n",
       " \n",
       "                6           7           8           9  ...        2295  \\\n",
       " 0      13.000000   20.000000   19.000000   19.000000  ...   11.000000   \n",
       " 1       9.000000   10.000000   10.000000   11.000000  ...   11.000000   \n",
       " 2      14.000000   14.000000   14.000000   14.000000  ...   13.000000   \n",
       " 3      14.000000   14.000000   14.000000   14.000000  ...   13.000000   \n",
       " 4       9.000000    9.000000    9.000000    9.000000  ...    9.000000   \n",
       " ...          ...         ...         ...         ...  ...         ...   \n",
       " 9995   49.654663   51.275777   53.275777   53.896891  ...  135.657123   \n",
       " 9996  163.722245  168.595836  172.343017  180.331743  ...   26.011275   \n",
       " 9997   47.442473   37.866700   29.860618   24.424227  ...   33.545364   \n",
       " 9998   64.654177   55.514016   49.401887   52.345823  ...   28.485984   \n",
       " 9999  133.869658  151.368780  232.361755  186.365853  ...  234.001756   \n",
       " \n",
       "             2296        2297        2298        2299        2300        2301  \\\n",
       " 0      11.000000   11.000000   11.000000   11.000000   11.000000   12.000000   \n",
       " 1      10.000000   10.000000   10.000000   10.000000   10.000000   10.000000   \n",
       " 2      14.000000   13.000000   13.000000   13.000000   13.000000   12.000000   \n",
       " 3      13.000000   12.000000   12.000000   13.000000   13.000000   13.000000   \n",
       " 4       9.000000    8.000000    8.000000    7.000000    8.000000    8.000000   \n",
       " ...          ...         ...         ...         ...         ...         ...   \n",
       " 9995  141.381346  142.829792  139.554014  134.278237  128.002460  122.484455   \n",
       " 9996   25.252819   24.747181   25.747181   29.367953   32.241544   34.367953   \n",
       " 9997   32.545364   32.260518   32.405982   32.551445   32.696909   33.842373   \n",
       " 9998   29.485984   31.000000   32.056064   30.626145   28.598113   29.514016   \n",
       " 9999  231.376976  233.126829  211.253659  218.253073  241.001171  250.625366   \n",
       " \n",
       "             2302        2303  target  \n",
       " 0      11.000000   11.000000       1  \n",
       " 1      10.000000    9.000000       1  \n",
       " 2      12.000000   12.000000       1  \n",
       " 3      13.000000   13.000000       1  \n",
       " 4       8.000000    8.000000       1  \n",
       " ...          ...         ...     ...  \n",
       " 9995  116.690673  113.345337       1  \n",
       " 9996   37.367953   38.620772       1  \n",
       " 9997   34.272682   35.418145       1  \n",
       " 9998   30.943936   31.887871       1  \n",
       " 9999  250.625366  247.125659       1  \n",
       " \n",
       " [10000 rows x 2305 columns]]"
      ]
     },
     "execution_count": 48,
     "metadata": {},
     "output_type": "execute_result"
    }
   ],
   "source": [
    "res_binary_targets = []\n",
    "for i in range(0,10):\n",
    "    binary_arr = []\n",
    "    for j in train_resampled['target']:\n",
    "        if j == i:\n",
    "            binary_arr.append(0)\n",
    "        else:\n",
    "            binary_arr.append(1)\n",
    "    bin_arr = pd.DataFrame(binary_arr)\n",
    "    bin_arr.columns = ['target']\n",
    "    res_binary_targets.append(bin_arr)\n",
    "\n",
    "#remove multilabel target column\n",
    "train_res = train_resampled.drop(labels='target', axis=1)\n",
    "# train_res.head()\n",
    "# train_resampled['target'].head()\n",
    "\n",
    "#add binary target for each class\n",
    "full_res_binary_targets = []\n",
    "for idx in range(0, 10):\n",
    "    binary_df = pd.concat([train_res, res_binary_targets[idx]], axis=1)\n",
    "    full_res_binary_targets.append(binary_df)\n",
    "#     print(binary_df)\n",
    "    \n",
    "# full_res_multi_targets = pd.concat([train_res, res_binary_targets[idx]], axis=1)\n",
    "    \n",
    "full_res_binary_targets[:3]\n",
    "# print(full_res_binary_targets[0])"
   ]
  },
  {
   "cell_type": "markdown",
   "metadata": {},
   "source": [
    "### #5: Resampled data set"
   ]
  },
  {
   "cell_type": "code",
   "execution_count": 75,
   "metadata": {},
   "outputs": [
    {
     "name": "stdout",
     "output_type": "stream",
     "text": [
      "File 0:\n",
      "10 Largest Correlation Values\n",
      "[(0.03170547254710813, 1965), (0.031019238269029074, 1775), (0.030516690051072052, 1767), (0.030417203581425085, 1967), (0.030343904618887224, 1964), (0.030211986197629284, 1966), (0.030122920471457287, 1917), (0.029937401204301568, 1918), (0.02991121850675932, 1727), (0.02988871095832856, 1871)]\n",
      "10 Smallest Correlation Value\n",
      "[(0.0001891051246905931, 1506), (0.00015677225513099067, 753), (0.00015222289424560772, 1600), (0.00011369075792164781, 1505), (0.00010834429831370037, 690), (6.969201775982757e-05, 700), (4.830681330052818e-05, 653), (4.661930209026591e-05, 648), (2.6786519858528618e-05, 1602), (2.242775350343889e-05, 746)]\n",
      "File 1:\n",
      "10 Largest Correlation Values\n",
      "[(0.025389853118818785, 930), (0.02496054667330668, 1125), (0.024904428028874354, 898), (0.024850151730220506, 931), (0.024724788282376606, 1419), (0.023212607319190438, 933), (0.023141280283228278, 945), (0.023019710200193794, 934), (0.022972594221540483, 883), (0.02292672797536699, 1467)]\n",
      "10 Smallest Correlation Value\n",
      "[(5.184402528439491e-05, 2280), (5.001339521984883e-05, 263), (4.634534490966912e-05, 561), (3.0227429789380592e-05, 407), (2.922435341780891e-05, 2145), (2.7794479132159117e-05, 452), (2.050807551540971e-05, 61), (1.835495192514065e-05, 1537), (1.2516343466378779e-05, 390), (4.498699088936395e-07, 154)]\n",
      "File 2:\n",
      "10 Largest Correlation Values\n",
      "[(0.02181740213248877, 44), (0.021675340676041682, 908), (0.021578107236623168, 861), (0.02131979671978779, 860), (0.02131451715228208, 1077), (0.02087186531121451, 956), (0.02079306502237843, 981), (0.020753699181275374, 476), (0.020649693582059286, 1029), (0.020513369479125482, 909)]\n",
      "10 Smallest Correlation Value\n",
      "[(5.885745902102632e-05, 760), (5.1432342860916434e-05, 1585), (3.7301078978523375e-05, 1681), (2.5524589315538936e-05, 1967), (2.5109407936260014e-05, 1957), (2.4939953362522038e-05, 2172), (1.926685372260692e-05, 1634), (2.7011948604428043e-06, 1978), (1.756087886300127e-06, 2084), (9.452190207885104e-07, 681)]\n",
      "File 3:\n",
      "10 Largest Correlation Values\n",
      "[(0.037961149724021245, 1979), (0.03611893609128983, 2027), (0.03588679708657809, 2026), (0.03466475615566039, 1978), (0.034480789590586924, 2025), (0.03411416611572276, 1980), (0.034076174739193464, 2219), (0.03385112028965523, 1930), (0.033702734443649414, 1976), (0.03367476275333352, 1929)]\n",
      "10 Smallest Correlation Value\n",
      "[(0.0001551057979058048, 2089), (0.0001233527197092507, 419), (0.00011561300936104545, 261), (9.419591540653187e-05, 76), (8.861809569487558e-05, 871), (7.568674832111096e-05, 469), (3.3793717900762986e-05, 120), (1.6562601292062495e-05, 117), (1.232424894921473e-05, 1669), (7.172669628876388e-06, 94)]\n",
      "File 4:\n",
      "10 Largest Correlation Values\n",
      "[(0.024703825050410827, 1142), (0.024512841622779807, 1046), (0.024154446035367955, 1190), (0.024084055381562434, 949), (0.024081842196676227, 1094), (0.023175427763635695, 950), (0.023093935181840063, 1042), (0.02299497816334036, 2007), (0.0229383622498921, 1212), (0.022657616861490558, 997)]\n",
      "10 Smallest Correlation Value\n",
      "[(6.650153412594774e-05, 1511), (6.575511489028459e-05, 889), (4.8241805560312115e-05, 480), (4.351338560659658e-05, 735), (3.209199974973107e-05, 1901), (2.5142018755545427e-05, 686), (2.4138347704592052e-05, 592), (2.1901210118854993e-05, 11), (1.2711868069276936e-05, 791), (1.2638348925500184e-05, 155)]\n",
      "File 5:\n",
      "10 Largest Correlation Values\n",
      "[(0.027362954548256706, 992), (0.026611034957250358, 1070), (0.02593392283400172, 1118), (0.025849954156813567, 1040), (0.02527669210128083, 944), (0.02519292748442918, 1119), (0.025016013353782427, 1071), (0.024606645118198166, 1455), (0.024470671283169834, 1550), (0.024294234567434066, 943)]\n",
      "10 Smallest Correlation Value\n",
      "[(7.974002821005237e-05, 420), (7.807655526707175e-05, 30), (7.613224783620666e-05, 1103), (7.36801581411302e-05, 1101), (6.203760540364001e-05, 2002), (4.289011877193073e-05, 1098), (3.404727285446704e-05, 421), (3.108381845150763e-05, 2011), (2.4426362556269864e-05, 568), (2.144018641638706e-05, 759)]\n",
      "File 6:\n",
      "10 Largest Correlation Values\n",
      "[(0.035022047953963464, 381), (0.03423258450332841, 380), (0.03373693167888931, 429), (0.03351933874495247, 236), (0.03339214502616039, 428), (0.03316468988530096, 235), (0.032601273672507175, 188), (0.0324434459024089, 332), (0.032416532650787366, 382), (0.03226677132300641, 333)]\n",
      "10 Smallest Correlation Value\n",
      "[(5.311071958262123e-05, 682), (4.5296863964698186e-05, 1815), (4.497147231513534e-05, 1434), (4.225022329224187e-05, 1482), (4.120960313399799e-05, 1761), (3.870329350535214e-05, 1763), (3.727202068995895e-05, 1953), (3.716880972463171e-05, 885), (3.381673466444114e-05, 634), (2.808029350588842e-05, 1589)]\n",
      "File 7:\n",
      "10 Largest Correlation Values\n",
      "[(0.029017937068848594, 918), (0.027326500954792318, 870), (0.027139943742279952, 966), (0.025929786313472723, 871), (0.02530258088831432, 721), (0.02521664584194685, 2093), (0.025190132755254502, 769), (0.024834608692257322, 817), (0.024677756404948258, 720), (0.024573334652848552, 50)]\n",
      "10 Smallest Correlation Value\n",
      "[(7.89196383131018e-05, 1977), (7.787501054427794e-05, 2016), (7.615595058288894e-05, 853), (7.55616202640294e-05, 732), (6.92272309803189e-05, 1604), (6.391027897932567e-05, 1708), (5.404926519842444e-05, 1937), (4.152215880783364e-05, 1750), (5.624508182938519e-06, 607), (3.034899346869395e-06, 658)]\n",
      "File 8:\n",
      "10 Largest Correlation Values\n",
      "[(0.022821000505486685, 1509), (0.022297598554398224, 1507), (0.02162744088591613, 1508), (0.020988118356047438, 1313), (0.020835965111558087, 1269), (0.020771181526198414, 1556), (0.020724361818611977, 1506), (0.020574507135818834, 1361), (0.020561781891623766, 1510), (0.020267096673225623, 1408)]\n",
      "10 Smallest Correlation Value\n",
      "[(7.444584347335087e-05, 2023), (7.058639888087286e-05, 1487), (6.065661120742069e-05, 1398), (5.997741429460959e-05, 2290), (5.209968215083051e-05, 1860), (4.247825453194444e-05, 1491), (4.1701002820459035e-05, 1577), (2.4487307780059588e-05, 677), (2.2711253170548673e-05, 2018), (2.9347551226063806e-06, 760)]\n",
      "File 9:\n",
      "10 Largest Correlation Values\n",
      "[(0.031623234828751026, 884), (0.0311389178000205, 883), (0.030668594889092213, 970), (0.030204383617358138, 885), (0.030039619754469102, 1402), (0.029962555836769773, 923), (0.02955732006852185, 1137), (0.02941175633419801, 1450), (0.02905223242075488, 1018), (0.02904271216926447, 1329)]\n",
      "10 Smallest Correlation Value\n",
      "[(0.00010248784886889603, 1175), (9.772350178532268e-05, 2022), (9.569838215269574e-05, 2081), (8.285293843321917e-05, 1154), (7.858863015109893e-05, 2159), (6.905682646962414e-05, 121), (3.6129023386862955e-05, 2006), (1.7173284718288327e-05, 1966), (1.6845105014411804e-05, 1871), (4.567956031139263e-06, 2285)]\n"
     ]
    }
   ],
   "source": [
    "for f, file in enumerate(full_res_binary_targets):\n",
    "    corrArr = []\n",
    "    for j in file.columns[:-1]:\n",
    "        corrVal, pVal = stats.pearsonr(file.iloc[:, int(j)], file.iloc[:, -1])\n",
    "        # Record the absolute value of the correlation\n",
    "        corrArr.append(math.fabs(corrVal))\n",
    "    print(f\"File {f}:\")\n",
    "    print(\"10 Largest Correlation Values\")\n",
    "    print(sorted([(x, i) for (i, x) in enumerate(corrArr)], reverse=True)[:10])\n",
    "    print(\"10 Smallest Correlation Value\")\n",
    "    print(sorted([(x, i) for (i, x) in enumerate(corrArr)], reverse=True)[-10:])"
   ]
  },
  {
   "cell_type": "markdown",
   "metadata": {},
   "source": [
    "### #6: Resampled data set"
   ]
  },
  {
   "cell_type": "code",
   "execution_count": 155,
   "metadata": {
    "pycharm": {
     "is_executing": false
    }
   },
   "outputs": [
    {
     "name": "stdout",
     "output_type": "stream",
     "text": [
      "\n",
      "Binary NB Classifier 10:\n",
      " __________________________________\n",
      "Multinomial for Binary NB Best 10: Class 0: 0.9981818181818182\n",
      "Multinomial for Binary NB Best 10: Class 1: 1.0\n",
      "Multinomial for Binary NB Best 10: Class 2: 0.9990909090909091\n",
      "Multinomial for Binary NB Best 10: Class 3: 0.9893939393939394\n",
      "Multinomial for Binary NB Best 10: Class 4: 0.9963636363636363\n",
      "Multinomial for Binary NB Best 10: Class 5: 1.0\n",
      "Multinomial for Binary NB Best 10: Class 6: 1.0\n",
      "Multinomial for Binary NB Best 10: Class 7: 1.0\n",
      "Multinomial for Binary NB Best 10: Class 8: 1.0\n",
      "Multinomial for Binary NB Best 10: Class 9: 1.0\n",
      "\n",
      "Multilabel NB Classifier 10:\n",
      " __________________________________\n",
      "Multinomial NB Best 10: 0.9906060606060606\n"
     ]
    }
   ],
   "source": [
    "bestSet = [1, 2, 5, 10]\n",
    "\n",
    "for i, num in enumerate(bestSet):\n",
    "    k_best_list = pd.DataFrame()\n",
    "    # Get top k for each 10 classes\n",
    "    for f, file in enumerate(full_res_binary_targets):\n",
    "        k_best = SelectKBest(chi2, k=num).fit_transform(file[file.columns[:2303]], file['target'])\n",
    "        k_best = pd.DataFrame(k_best)\n",
    "        k_best_list = pd.concat([k_best_list, k_best], axis=1)\n",
    "#     print(k_best_list)\n",
    "\n",
    "    print(f\"\\nBinary NB Classifier {num}0:\\n __________________________________\")\n",
    "    # run binary NB classifiers for each class\n",
    "    for f, file in enumerate(full_res_binary_targets):\n",
    "        k_best_binary = pd.concat([k_best_list, file['target'].reset_index()], axis=1)\n",
    "#         print(f\"K BEST BINARY: {kbb}\")\n",
    "        run_gaus_nb_binary(k_best_binary, num, f)\n",
    "#         run_multi_nb_binary(k_best_binary, num, f)\n",
    "\n",
    "    print(f\"\\nMultilabel NB Classifier {num}0:\\n __________________________________\")\n",
    "    k_best_multi = pd.concat([k_best_list, train_resampled['target'].reset_index()], axis=1)\n",
    "#     print(f\"K BEST MULTI: {kbm}\")\n",
    "    run_gaus_nb(k_best_multi, num)\n",
    "#     run_multi_nb(k_best_multi, num)"
   ]
  },
  {
   "cell_type": "markdown",
   "metadata": {},
   "source": [
    "# Analysis for 4 & 7"
   ]
  },
  {
   "cell_type": "markdown",
   "metadata": {},
   "source": [
    "### 4. Explain the reason for choosing and using these filters. Once you can run the algorithm, record, compare and analyse the classifier’s accuracy on different classes (as given by the Weka Summary and the confusion matrix)."
   ]
  },
  {
   "cell_type": "markdown",
   "metadata": {},
   "source": [
    "#### Since we are not using Weka, we did not need to apply any filters to the data before running Naive Bayes."
   ]
  },
  {
   "cell_type": "markdown",
   "metadata": {},
   "source": [
    "### 7. What kind of information about this data set did you learn, as a result of the above experiments? You should ask questions such as: Which streets signs are harder to recognise? Which street signs are most easily confused? Which attributes (fields) are more reliable and which are less reliable in classification of street signs? What was the purpose of Tasks 5 and 6? What would happen if the data sets you used in Tasks 4, 5 and 6 were not randomised? What would happen if there is cross-correlation between the non-class attributes? You will get more marks for more interesting and ``out of the box” questions and answers. Explain your conclusions logically and formally, using the material from the lecture notes and from your own reading to interpret the results that Weka produces."
   ]
  },
  {
   "cell_type": "markdown",
   "metadata": {},
   "source": [
    "#### Analysis...."
   ]
  },
  {
   "cell_type": "markdown",
   "metadata": {},
   "source": [
    "## Conclusions from initial experiments (q7)"
   ]
  },
  {
   "cell_type": "markdown",
   "metadata": {},
   "source": [
    "Using the multilabel confusion matrix, it is apparent that the multinomial Naïve Bayes classifier struggled with some classes, predicting them incorrectly most of the time. \n",
    "\n",
    "In particular, class 8 was more often classified as class 1 (probability 0.278), class 7 (probability 0.2023) and class 6 (probability 0.1974) before itself (probability 0.1283).\n",
    "\n",
    "//It looks like the classifier was confused by ...\n",
    "\n",
    "\n",
    "\n",
    "The strongest misclassification in the matrix is true members of class 3 being classified as class 7 (probability 0.2023). However, there is relatively very little of the reverse misclassification (true class 7 predicted as class 3).\n",
    "\n",
    "//^^ investigate this?\n",
    "\n",
    "\n",
    "\n",
    "Class 7 punches above its weight as the most abundant misclassification which is perhaps due to the relative infrequency of data for class 7. There must be some other factor, as there are less populated classes.\n",
    "\n"
   ]
  },
  {
   "cell_type": "markdown",
   "metadata": {},
   "source": [
    "## Complex Bayesian Networks\n",
    "\n",
    "scikit learn has naive bayes builtin, but not the more complex networks. Weka can be called on to fill the gap."
   ]
  },
  {
   "cell_type": "markdown",
   "metadata": {},
   "source": [
    "### K2 Algorithm"
   ]
  },
  {
   "cell_type": "code",
   "execution_count": null,
   "metadata": {
    "pycharm": {
     "is_executing": false
    }
   },
   "outputs": [],
   "source": [
    "import weka.core.jvm as jvm\n",
    "\n",
    "jvm.start()"
   ]
  },
  {
   "cell_type": "code",
   "execution_count": null,
   "metadata": {
    "pycharm": {
     "is_executing": false
    }
   },
   "outputs": [],
   "source": [
    "# I added the str call to this line (HM):\n",
    "# arffList.append(\"@attribute \" + str(df.columns[i]) + \" real\\n\") \n",
    "\n",
    "# ---\n",
    "\n",
    "# https://github.com/saurabhnagrecha/Pandas-to-ARFF\n",
    "\n",
    "# MIT License\n",
    "\n",
    "# Copyright (c) [2015] [Saurabh Nagrecha]\n",
    "\n",
    "# Permission is hereby granted, free of charge, to any person obtaining a copy of this software and associated documentation files (the \"Software\"), to deal in the Software without restriction, including without limitation the rights to use, copy, modify, merge, publish, distribute, sublicense, and/or sell copies of the Software, and to permit persons to whom the Software is furnished to do so, subject to the following conditions:\n",
    "\n",
    "# The above copyright notice and this permission notice shall be included in all copies or substantial portions of the Software.\n",
    "\n",
    "# THE SOFTWARE IS PROVIDED \"AS IS\", WITHOUT WARRANTY OF ANY KIND, EXPRESS OR IMPLIED, INCLUDING BUT NOT LIMITED TO THE WARRANTIES OF MERCHANTABILITY, FITNESS FOR A PARTICULAR PURPOSE AND NONINFRINGEMENT. IN NO EVENT SHALL THE AUTHORS OR COPYRIGHT HOLDERS BE LIABLE FOR ANY CLAIM, DAMAGES OR OTHER LIABILITY, WHETHER IN AN ACTION OF CONTRACT, TORT OR OTHERWISE, ARISING FROM, OUT OF OR IN CONNECTION WITH THE SOFTWARE OR THE USE OR OTHER DEALINGS IN THE SOFTWARE.\n",
    "\n",
    "\n",
    "import numpy as np\n",
    "\n",
    "def pandas2arff(df,filename,wekaname = \"pandasdata\",cleanstringdata=True,cleannan=True):\n",
    "    \"\"\"\n",
    "    converts the pandas dataframe to a weka compatible file\n",
    "    df: dataframe in pandas format\n",
    "    filename: the filename you want the weka compatible file to be in\n",
    "    wekaname: the name you want to give to the weka dataset (this will be visible to you when you open it in Weka)\n",
    "    cleanstringdata: clean up data which may have spaces and replace with \"_\", special characters etc which seem to annoy Weka. \n",
    "                     To suppress this, set this to False\n",
    "    cleannan: replaces all nan values with \"?\" which is Weka's standard for missing values. \n",
    "              To suppress this, set this to False\n",
    "    \"\"\"\n",
    "    import re\n",
    "    \n",
    "    def cleanstring(s):\n",
    "        if s!=\"?\":\n",
    "            return re.sub('[^A-Za-z0-9]+', \"_\", str(s))\n",
    "        else:\n",
    "            return \"?\"\n",
    "            \n",
    "    dfcopy = df #all cleaning operations get done on this copy\n",
    "\n",
    "    \n",
    "    if cleannan!=False:\n",
    "        dfcopy = dfcopy.fillna(-999999999) #this is so that we can swap this out for \"?\"\n",
    "        #this makes sure that certain numerical columns with missing values don't get stuck with \"object\" type\n",
    " \n",
    "    f = open(filename,\"w\")\n",
    "    arffList = []\n",
    "    arffList.append(\"@relation \" + wekaname + \"\\n\")\n",
    "    #look at each column's dtype. If it's an \"object\", make it \"nominal\" under Weka for now (can be changed in source for dates.. etc)\n",
    "    for i in range(df.shape[1]):\n",
    "        if dfcopy.dtypes[i]=='O' or (df.columns[i] in [\"Class\",\"CLASS\",\"class\"]):\n",
    "            if cleannan!=False:\n",
    "                dfcopy.iloc[:,i] = dfcopy.iloc[:,i].replace(to_replace=-999999999, value=\"?\")\n",
    "            if cleanstringdata!=False:\n",
    "                dfcopy.iloc[:,i] = dfcopy.iloc[:,i].apply(cleanstring)\n",
    "            _uniqueNominalVals = [str(_i) for _i in np.unique(dfcopy.iloc[:,i])]\n",
    "            _uniqueNominalVals = \",\".join(_uniqueNominalVals)\n",
    "            _uniqueNominalVals = _uniqueNominalVals.replace(\"[\",\"\")\n",
    "            _uniqueNominalVals = _uniqueNominalVals.replace(\"]\",\"\")\n",
    "            _uniqueValuesString = \"{\" + _uniqueNominalVals +\"}\" \n",
    "            arffList.append(\"@attribute \" + df.columns[i] + _uniqueValuesString + \"\\n\")\n",
    "        else:\n",
    "            arffList.append(\"@attribute \" + str(df.columns[i]) + \" real\\n\") \n",
    "            #even if it is an integer, let's just deal with it as a real number for now\n",
    "    arffList.append(\"@data\\n\")           \n",
    "    for i in range(dfcopy.shape[0]):#instances\n",
    "        _instanceString = \"\"\n",
    "        for j in range(df.shape[1]):#features\n",
    "                if dfcopy.dtypes[j]=='O':\n",
    "                    _instanceString+=\"\\\"\" + str(dfcopy.iloc[i,j]) + \"\\\"\"\n",
    "                else:\n",
    "                    _instanceString+=str(dfcopy.iloc[i,j])\n",
    "                if j!=dfcopy.shape[1]-1:#if it's not the last feature, add a comma\n",
    "                    _instanceString+=\",\"\n",
    "        _instanceString+=\"\\n\"\n",
    "        if cleannan!=False:\n",
    "            _instanceString = _instanceString.replace(\"-999999999.0\",\"?\") #for numeric missing values\n",
    "            _instanceString = _instanceString.replace(\"\\\"?\\\"\",\"?\") #for categorical missing values\n",
    "        arffList.append(_instanceString)\n",
    "    f.writelines(arffList)\n",
    "    f.close()\n",
    "    del dfcopy\n",
    "    return True"
   ]
  },
  {
   "cell_type": "code",
   "execution_count": null,
   "metadata": {
    "pycharm": {
     "is_executing": false
    }
   },
   "outputs": [],
   "source": [
    "import weka.core.classes as wkcore\n",
    "from weka.classifiers import Classifier\n",
    "import os\n",
    "\n",
    "# cls = Classifier(classname=\"weka.classifiers.trees.J48\", options=[\"-C\", \"0.3\"])\n",
    "\n",
    "cmdline = 'weka.classifiers.bayes.BayesNet -D -Q weka.classifiers.bayes.net.search.local.TAN -- -S BAYES -E weka.classifiers.bayes.net.estimate.SimpleEstimator -- -A 0.5'\n",
    "classifier = wkcore.from_commandline(cmdline, classname=\"weka.classifiers.Classifier\")\n",
    "# classifier.build_classifier(iris_data)\n",
    "\n",
    "# weka.classifiers.bayes.BayesNet -D -Q weka.classifiers.bayes.net.search.local.TAN -- -S BAYES -E weka.classifiers.bayes.net.estimate.SimpleEstimator -- -A 0.5\n",
    "print(classifier.options)\n",
    "\n",
    "# Attempt to convert type formats without intermediate file (failed)\n",
    "# from scipy.io import arff\n",
    "# from io import StringIO\n",
    "# x_train_20_str = StringIO(X_train_20)\n",
    "# data_xtr20, meta_xtr20 = arff.loadarff(X_train_20)\n",
    "# df_data = pd.DataFrame(data_xtr20)\n",
    "\n",
    "pandas2arff(X_train_20, 'pandasdata.arff')\n",
    "\n",
    "# receive arff\n",
    "from weka.core.converters import Loader\n",
    "loader = Loader(classname=\"weka.core.converters.ArffLoader\")\n",
    "arffData = loader.load_file(os.getcwd() + '/' + 'pandasdata.arff')\n",
    "arffData.class_is_last()\n",
    "\n",
    "# clean up\n",
    "os.remove('pandasdata.arff')\n",
    "\n",
    "# classifier.build_classifier(arffData) #TODO hama fix \"class is numeric\" error that this spews\n",
    "\n",
    "# print(arffData)"
   ]
  },
  {
   "cell_type": "markdown",
   "metadata": {},
   "source": [
    "## 10. Clustering"
   ]
  },
  {
   "cell_type": "code",
   "execution_count": 64,
   "metadata": {
    "pycharm": {
     "is_executing": false
    }
   },
   "outputs": [],
   "source": [
    "from sklearn.cluster import KMeans\n",
    "from sklearn.decomposition import PCA\n",
    "from sklearn.preprocessing import MinMaxScaler\n",
    "\n",
    "# scaler = MinMaxScaler(feature_range=[0, 1])\n",
    "\n",
    "# pca = PCA(n_components=50)\n",
    "# smpl_data = pd.DataFrame(pca.fit_transform(train_resampled[train_resampled.columns[:-1]]))\n",
    "# smpl_data = pd.DataFrame(scaler.fit_transform(smpl_data))\n",
    "# smpl_data[\"target\"] = train_smpl[\"target\"]\n",
    "\n",
    "# Training sample for train_smpl\n",
    "\n",
    "smpl_data = train_smpl.copy()\n",
    "\n",
    "kmeans = KMeans(n_clusters=10, random_state=2)\n",
    "smpl_data[\"cluster\"] = kmeans.fit_predict(smpl_data[smpl_data.columns[:-1]])\n",
    "# smpl_data[\"w_class_attribute\"] = kmeans.fit_predict(smpl_data[smpl_data.columns[:-1]])\n",
    "\n",
    "resampled_data = train_resampled.copy()\n",
    "\n",
    "kmeans = KMeans(n_clusters=10, random_state=2)\n",
    "resampled_data[\"cluster\"] = kmeans.fit_predict(resampled_data[resampled_data.columns[:-1]])\n",
    "# resampled_data[\"w_class_attribute\"] = kmeans.fit_predict(resampled_data[resampled_data.columns[:-1]])"
   ]
  },
  {
   "cell_type": "code",
   "execution_count": 65,
   "metadata": {
    "pycharm": {
     "is_executing": false
    }
   },
   "outputs": [],
   "source": [
    "from sklearn.cluster import KMeans\n",
    "\n",
    "# Training sample for train_smpl_<label> \n",
    "training_dataframe = [train_smpl_0.copy(), train_smpl_1.copy(), train_smpl_2.copy(), train_smpl_3.copy(), train_smpl_4.copy(),\n",
    "                      train_smpl_5.copy(), train_smpl_6.copy(), train_smpl_7.copy(), train_smpl_8.copy(), train_smpl_9.copy()]\n",
    "\n",
    "kmeans = KMeans(n_clusters=2, random_state=2)\n",
    "for dataframe in training_dataframe:\n",
    "    dataframe[\"cluster\"] = kmeans.fit_predict(dataframe[dataframe.columns[:-1]])"
   ]
  },
  {
   "cell_type": "code",
   "execution_count": null,
   "metadata": {
    "pycharm": {
     "is_executing": false
    }
   },
   "outputs": [],
   "source": [
    "# import matplotlib.pyplot as plt\n",
    "# import numpy as np\n",
    "\n",
    "#Fitting the PCA algorithm with our Data\n",
    "# pca = PCA().fit(data_rescaled)\n",
    "\n",
    "#Plotting the Cumulative Summation of the Explained Variance\n",
    "# plt.figure()\n",
    "# plt.plot(np.cumsum(pca.explained_variance_ratio_))\n",
    "# plt.xlabel('Number of Components')\n",
    "# plt.ylabel('Variance (%)') #for each component\n",
    "# plt.title('Pulsar Dataset Explained Variance')\n",
    "# plt.show()"
   ]
  },
  {
   "cell_type": "code",
   "execution_count": null,
   "metadata": {
    "pycharm": {
     "is_executing": false
    }
   },
   "outputs": [],
   "source": [
    "import numpy as np\n",
    "import matplotlib.pyplot as plt\n",
    "\n",
    "# print(target.groupby(['target']).count())\n",
    "# result_class_attribute = result.groupby(['target', 'cluster_class_attribute']).count()\n",
    "# result_cluster[\"class\"] = result_class_attribute[\"cluster\"]\n",
    "\n",
    "def plot_clustering(result, nb_attribute, nb_cluster, name_cluster=\"cluster\"):\n",
    "    df = result[result.columns[-3:]]\n",
    "    result_cluster = df.groupby(['target', name_cluster]).count()\n",
    "    result_cluster.reset_index(inplace=True)\n",
    "    result_data = []\n",
    "    for i in range(0, nb_cluster):\n",
    "        result_data.append([])\n",
    "        if name_cluster == \"w_class_attribute\":\n",
    "            data = result_cluster[result_cluster.w_class_attribute == i].drop([name_cluster], axis=1).to_dict('split')['data']\n",
    "        else:\n",
    "            data = result_cluster[result_cluster.cluster == i].drop([name_cluster], axis=1).to_dict('split')['data']\n",
    "        data = [{x[0]: x[1]} for x in data]\n",
    "        data = dict(pair for d in data for pair in d.items())\n",
    "        for j in range(0, nb_attribute):\n",
    "            result_data[i].append(data[j] if j in data else 0)\n",
    "\n",
    "    data = np.array(result_data)\n",
    "\n",
    "    color_list = ['#FC7A57', '#EEFC57', '#5E5B52', '#8DB580', '#BBE5ED', '#4281A4', '#BAD9B5', '#CA7DF9', '#04E762', '#723D46']\n",
    "\n",
    "    X = np.arange(data.shape[1])\n",
    "    for i in range(data.shape[0]):\n",
    "        plt.bar(X, data[i],\n",
    "            bottom = np.sum(data[:i], axis = 0),\n",
    "            color = color_list[i % len(color_list)],\n",
    "               label=f\"Cluster {i}\")\n",
    "\n",
    "    plt.legend(loc=\"best\", bbox_to_anchor=(1.0, 1.00))\n",
    "    plt.show()"
   ]
  },
  {
   "cell_type": "code",
   "execution_count": null,
   "metadata": {
    "pycharm": {
     "is_executing": false
    }
   },
   "outputs": [],
   "source": [
    "\"\"\"\n",
    "# Plot train_smpl_<label> clusters\n",
    "i = 0\n",
    "for dataframe in training_dataframe:\n",
    "    print(f\"Training sample n°{i}:\")\n",
    "    plot_clustering(dataframe, 10, 2)\n",
    "    i += 1\n",
    "\"\"\"\n",
    "# Plot train_smpl clusters\n",
    "print(f\"Training sample all data (without class attribute):\")\n",
    "plot_clustering(smpl_data, 10, 10)\n",
    "# print(f\"Training sample all data (with class attribute):\")\n",
    "# plot_clustering(smpl_data, 10, 10, 'w_class_attribute')\n",
    "\n",
    "# Plot train_smpl resampled clusters\n",
    "print(f\"Training resample data (without class attribute):\")\n",
    "plot_clustering(resampled_data, 10, 10)\n",
    "# print(f\"Training resample data (with class attribute):\")\n",
    "# plot_clustering(resampled_data, 10, 10, 'w_class_attribute')"
   ]
  },
  {
   "cell_type": "markdown",
   "metadata": {},
   "source": [
    "## 11. Clustering notes\n",
    "\n",
    "The clustering classification is not as good as the Gaussian Naives model. It struggle with attributing the classes to the good target.\n",
    "\n",
    "When it is trained with the individual sample the two cluster doesn't separate the specific class from the other classes. But for the sample n°2 all the class is in one cluster, but the cluster also contains a lot of other classes.\n",
    "\n",
    "The classification obtained with and without class attribute are the same. Maybe we should change weight on the class attribute so there is more impact on the distribution.\n",
    "\n",
    "I did some tests with using PCA (Principal component analysis) which convert a set of observations of possibly correlated variables to reduce the number of attributes of the samples. And some other with the MinMax scaler. But theses preprocess didn't improve the result, the cluster are still very distributed among the targets.\n",
    "\n",
    "When we are comparing the result between basic sample of all data and the resample one, neither of which seems to be better than the other.\n",
    "\n",
    "But we can notice in the resample result, that for the target 6 and 7, 9 they have almost a dedicated a cluster (corresponding in the order of cluster 7, 9 and 6)"
   ]
  },
  {
   "cell_type": "markdown",
   "metadata": {},
   "source": [
    "## 12. Other clustering algorithms"
   ]
  },
  {
   "cell_type": "code",
   "execution_count": null,
   "metadata": {
    "pycharm": {
     "is_executing": false
    }
   },
   "outputs": [],
   "source": [
    "from sklearn.cluster import DBSCAN\n",
    "\n",
    "smpl_data = train_resampled.copy()\n",
    "\n",
    "dbscan = DBSCAN(eps=100, min_samples=10)\n",
    "smpl_data[\"cluster\"] = dbscan.fit_predict(smpl_data[smpl_data.columns[:-1]])"
   ]
  },
  {
   "cell_type": "code",
   "execution_count": null,
   "metadata": {
    "pycharm": {
     "is_executing": false
    }
   },
   "outputs": [],
   "source": [
    "from sklearn.cluster import Birch\n",
    "\n",
    "smpl_data = train_resampled.copy()\n",
    "\n",
    "birch = Birch(threshold=0.5, branching_factor=50, n_clusters=8)\n",
    "smpl_data[\"cluster\"] = birch.fit_predict(smpl_data[smpl_data.columns[:-1]])"
   ]
  },
  {
   "cell_type": "code",
   "execution_count": null,
   "metadata": {
    "pycharm": {
     "is_executing": false
    }
   },
   "outputs": [],
   "source": [
    "from sklearn.cluster import MeanShift\n",
    "\n",
    "print('a')\n",
    "smpl_data = train_resampled.copy()\n",
    "\n",
    "mean_shift = MeanShift(bandwidth=100)\n",
    "smpl_data[\"cluster\"] = mean_shift.fit_predict(smpl_data[smpl_data.columns[:-1]])"
   ]
  },
  {
   "cell_type": "code",
   "execution_count": null,
   "metadata": {
    "pycharm": {
     "is_executing": false
    }
   },
   "outputs": [],
   "source": [
    "max(dbscan.labels_)\n",
    "\n",
    "plot_clustering(smpl_data, 10, 10)"
   ]
  },
  {
   "cell_type": "markdown",
   "metadata": {},
   "source": [
    "## 14. Research Question"
   ]
  },
  {
   "cell_type": "markdown",
   "metadata": {},
   "source": [
    "### Create datasets that have 1 class removed - original dataset"
   ]
  },
  {
   "cell_type": "code",
   "execution_count": 94,
   "metadata": {},
   "outputs": [
    {
     "name": "stdout",
     "output_type": "stream",
     "text": [
      "d: 0\n",
      "~~~~NEXT~~~~\n",
      "d: 1\n",
      "~~~~NEXT~~~~\n",
      "d: 2\n",
      "~~~~NEXT~~~~\n",
      "removed classes:           0      1      2      3      4      5      6      7      8      9  \\\n",
      "3328   37.0   32.0   30.0   57.0   47.0   40.0   41.0   28.0   26.0   39.0   \n",
      "3528   29.0   32.0   33.0   32.0   34.0   34.0   34.0   34.0   30.0   28.0   \n",
      "3529   52.0   42.0   35.0   36.0   37.0   36.0   35.0   34.0   41.0   40.0   \n",
      "3447   28.0   28.0   27.0   29.0   27.0   26.0   26.0   24.0   24.0   26.0   \n",
      "3404   19.0   20.0   20.0   20.0   21.0   21.0   22.0   22.0   22.0   22.0   \n",
      "...     ...    ...    ...    ...    ...    ...    ...    ...    ...    ...   \n",
      "3304   21.0   21.0   20.0   20.0   20.0   20.0   20.0   20.0   21.0   21.0   \n",
      "3627  255.0  255.0  255.0  255.0  255.0  255.0  255.0  255.0  255.0  255.0   \n",
      "3561   18.0   17.0   16.0   16.0   16.0   15.0   15.0   15.0   15.0   14.0   \n",
      "3556   18.0   17.0   16.0   17.0   17.0   17.0   17.0   18.0   18.0   18.0   \n",
      "3385   38.0   33.0   30.0   32.0   33.0   41.0   57.0   82.0  135.0  111.0   \n",
      "\n",
      "      ...  2295   2296  2297  2298  2299  2300  2301  2302  2303  target  \n",
      "3328  ...  41.0   20.0  36.0  56.0  42.0  16.0  13.0  12.0  12.0     2.0  \n",
      "3528  ...  83.0   83.0  68.0  53.0  40.0  35.0  26.0  22.0  22.0     2.0  \n",
      "3529  ...  81.0   83.0  80.0  69.0  54.0  49.0  37.0  28.0  23.0     2.0  \n",
      "3447  ...  24.0   24.0  23.0  23.0  22.0  22.0  23.0  24.0  26.0     2.0  \n",
      "3404  ...  48.0   30.0  23.0  23.0  23.0  24.0  25.0  27.0  27.0     2.0  \n",
      "...   ...   ...    ...   ...   ...   ...   ...   ...   ...   ...     ...  \n",
      "3304  ...  19.0   18.0  18.0  19.0  19.0  19.0  19.0  18.0  18.0     2.0  \n",
      "3627  ...  18.0   19.0  18.0  18.0  18.0  18.0  18.0  19.0  19.0     2.0  \n",
      "3561  ...  21.0   16.0  14.0  14.0  15.0  15.0  16.0  17.0  16.0     2.0  \n",
      "3556  ...  19.0   17.0  16.0  15.0  15.0  15.0  15.0  15.0  14.0     2.0  \n",
      "3385  ...  66.0  100.0  83.0  70.0  65.0  85.0  69.0  37.0  40.0     2.0  \n",
      "\n",
      "[420 rows x 2305 columns]\n"
     ]
    }
   ],
   "source": [
    "import copy\n",
    "#Remove 2, 9, and 6\n",
    "rem_images = [2, 9, 6]\n",
    "train_smpl_copy_2 = copy.deepcopy(train_smpl)\n",
    "train_smpl_copy_9 = copy.deepcopy(train_smpl)\n",
    "train_smpl_copy_6 = copy.deepcopy(train_smpl)\n",
    "dataSet = [train_smpl_copy_2, train_smpl_copy_9, train_smpl_copy_6]\n",
    "removed_classes = []\n",
    "for d, data in enumerate (dataSet):\n",
    "    #Iterate through rows and identify ones that have the key \n",
    "    print(f\"d: {d}\")\n",
    "    removed_class = []\n",
    "    for idx, row in data.iterrows():\n",
    "        if row['target'] == rem_images[d]:\n",
    "            removed_class.append(row)\n",
    "            data.drop([idx], inplace=True)\n",
    "    removed_class_df = pd.DataFrame(removed_class)\n",
    "    removed_classes.append(removed_class_df)\n",
    "    print(\"~~~~NEXT~~~~\")\n",
    "\n",
    "print(f\"removed classes: {removed_classes[0]}\")\n",
    "# train_smpl_copy_6.head()\n",
    "    \n"
   ]
  },
  {
   "cell_type": "code",
   "execution_count": 95,
   "metadata": {},
   "outputs": [
    {
     "name": "stdout",
     "output_type": "stream",
     "text": [
      "Train smpl copy 6:            0      1      2      3      4      5      6      7      8      9  \\\n",
      "1236    25.0   24.0   28.0   27.0   24.0   22.0   22.0   22.0   21.0   21.0   \n",
      "8847   255.0  255.0  255.0  255.0  255.0  255.0  255.0  255.0  255.0  255.0   \n",
      "11285   34.0   34.0   34.0   33.0   32.0   31.0   31.0   30.0   30.0   30.0   \n",
      "12423   63.0   66.0   70.0   81.0   77.0   72.0   62.0   61.0   60.0   62.0   \n",
      "3015    34.0   33.0   34.0   36.0   38.0   37.0   52.0   86.0  130.0   78.0   \n",
      "...      ...    ...    ...    ...    ...    ...    ...    ...    ...    ...   \n",
      "11964   25.0   24.0   25.0   24.0   24.0   23.0   23.0   23.0   24.0   24.0   \n",
      "5191    35.0   35.0   35.0   34.0   34.0   33.0   33.0   33.0   34.0   34.0   \n",
      "5390    17.0   15.0   17.0   16.0   16.0   16.0   16.0   18.0   24.0  117.0   \n",
      "860     65.0   68.0   70.0   71.0   70.0   68.0   66.0   63.0   60.0   58.0   \n",
      "7270    88.0   70.0   55.0   53.0   51.0   51.0   53.0   56.0   57.0   56.0   \n",
      "\n",
      "       ...   2295   2296   2297   2298   2299   2300   2301   2302   2303  \\\n",
      "1236   ...   34.0   33.0   34.0   36.0   35.0   35.0   34.0   34.0   35.0   \n",
      "8847   ...  241.0  230.0  237.0  227.0  241.0  241.0  239.0  241.0  237.0   \n",
      "11285  ...   16.0   14.0   12.0   11.0   11.0   11.0   13.0   17.0   19.0   \n",
      "12423  ...  123.0   77.0   47.0   44.0   43.0   42.0   55.0   71.0   68.0   \n",
      "3015   ...   54.0   39.0   34.0   34.0   35.0   32.0   31.0   31.0   29.0   \n",
      "...    ...    ...    ...    ...    ...    ...    ...    ...    ...    ...   \n",
      "11964  ...   27.0   46.0  106.0  123.0   89.0   66.0   48.0   38.0   35.0   \n",
      "5191   ...   41.0   42.0   41.0   40.0   39.0   40.0   43.0   47.0   49.0   \n",
      "5390   ...   55.0   43.0   37.0   43.0   51.0   47.0   38.0   23.0   17.0   \n",
      "860    ...   37.0   38.0   37.0   35.0   41.0   53.0   56.0   48.0   43.0   \n",
      "7270   ...   75.0   93.0  128.0  120.0  110.0   99.0   89.0   92.0  100.0   \n",
      "\n",
      "       target  \n",
      "1236        0  \n",
      "8847        5  \n",
      "11285       8  \n",
      "12423       9  \n",
      "3015        1  \n",
      "...       ...  \n",
      "11964       8  \n",
      "5191        4  \n",
      "5390        4  \n",
      "860         0  \n",
      "7270        5  \n",
      "\n",
      "[11880 rows x 2305 columns]\n"
     ]
    }
   ],
   "source": [
    "print(f\"Train smpl copy 6: {train_smpl_copy_6}\")"
   ]
  },
  {
   "cell_type": "code",
   "execution_count": 108,
   "metadata": {
    "scrolled": true
   },
   "outputs": [
    {
     "name": "stdout",
     "output_type": "stream",
     "text": [
      "(420, 2305)\n",
      "(300, 2305)\n",
      "(780, 2305)\n",
      "Rem classes:           0      1      2      3      4      5      6      7      8      9  \\\n",
      "3328   37.0   32.0   30.0   57.0   47.0   40.0   41.0   28.0   26.0   39.0   \n",
      "3528   29.0   32.0   33.0   32.0   34.0   34.0   34.0   34.0   30.0   28.0   \n",
      "3529   52.0   42.0   35.0   36.0   37.0   36.0   35.0   34.0   41.0   40.0   \n",
      "3447   28.0   28.0   27.0   29.0   27.0   26.0   26.0   24.0   24.0   26.0   \n",
      "3404   19.0   20.0   20.0   20.0   21.0   21.0   22.0   22.0   22.0   22.0   \n",
      "...     ...    ...    ...    ...    ...    ...    ...    ...    ...    ...   \n",
      "3304   21.0   21.0   20.0   20.0   20.0   20.0   20.0   20.0   21.0   21.0   \n",
      "3627  255.0  255.0  255.0  255.0  255.0  255.0  255.0  255.0  255.0  255.0   \n",
      "3561   18.0   17.0   16.0   16.0   16.0   15.0   15.0   15.0   15.0   14.0   \n",
      "3556   18.0   17.0   16.0   17.0   17.0   17.0   17.0   18.0   18.0   18.0   \n",
      "3385   38.0   33.0   30.0   32.0   33.0   41.0   57.0   82.0  135.0  111.0   \n",
      "\n",
      "      ...  2295   2296  2297  2298  2299  2300  2301  2302  2303  target  \n",
      "3328  ...  41.0   20.0  36.0  56.0  42.0  16.0  13.0  12.0  12.0     2.0  \n",
      "3528  ...  83.0   83.0  68.0  53.0  40.0  35.0  26.0  22.0  22.0     2.0  \n",
      "3529  ...  81.0   83.0  80.0  69.0  54.0  49.0  37.0  28.0  23.0     2.0  \n",
      "3447  ...  24.0   24.0  23.0  23.0  22.0  22.0  23.0  24.0  26.0     2.0  \n",
      "3404  ...  48.0   30.0  23.0  23.0  23.0  24.0  25.0  27.0  27.0     2.0  \n",
      "...   ...   ...    ...   ...   ...   ...   ...   ...   ...   ...     ...  \n",
      "3304  ...  19.0   18.0  18.0  19.0  19.0  19.0  19.0  18.0  18.0     2.0  \n",
      "3627  ...  18.0   19.0  18.0  18.0  18.0  18.0  18.0  19.0  19.0     2.0  \n",
      "3561  ...  21.0   16.0  14.0  14.0  15.0  15.0  16.0  17.0  16.0     2.0  \n",
      "3556  ...  19.0   17.0  16.0  15.0  15.0  15.0  15.0  15.0  14.0     2.0  \n",
      "3385  ...  66.0  100.0  83.0  70.0  65.0  85.0  69.0  37.0  40.0     2.0  \n",
      "\n",
      "[420 rows x 2305 columns]\n"
     ]
    }
   ],
   "source": [
    "print(removed_classes[0].shape)\n",
    "print(removed_classes[1].shape)\n",
    "print(removed_classes[2].shape)\n",
    "\n",
    "print(f\"Rem classes: {removed_classes[0]}\")\n",
    "# print(f\"Rem classes: {removed_classes[1]}\")\n",
    "# print(f\"Rem classes: {removed_classes[2]}\")"
   ]
  },
  {
   "cell_type": "markdown",
   "metadata": {},
   "source": [
    "### Method for plotting frequency of classification"
   ]
  },
  {
   "cell_type": "code",
   "execution_count": 152,
   "metadata": {},
   "outputs": [],
   "source": [
    "# Adapted from: https://stackoverflow.com/questions\n",
    "# /50845998/matplotlib-bar-chart-that-shows-frequency-of-unique-values\n",
    "\n",
    "def make_plot(title, result):\n",
    "    plt.hist(result, bins=np.arange(10)-0.5)\n",
    "    plt.title(title)\n",
    "    plt.xlabel(\"Classes\")\n",
    "    plt.ylabel(\"No of Classifications\")\n",
    "    plt.xticks(ticks=[0,1,2,3,4,5,6,7,8,9,10],label=[0,1,2,3,4,5,6,7,8,9,10])\n",
    "    plt.show()"
   ]
  },
  {
   "cell_type": "markdown",
   "metadata": {},
   "source": [
    "### Run Multinomial NB"
   ]
  },
  {
   "cell_type": "code",
   "execution_count": 154,
   "metadata": {},
   "outputs": [
    {
     "data": {
      "image/png": "[encoded data removed]",
      "text/plain": [
       "<Figure size 432x288 with 1 Axes>"
      ]
     },
     "metadata": {
      "needs_background": "light"
     },
     "output_type": "display_data"
    },
    {
     "name": "stdout",
     "output_type": "stream",
     "text": [
      "Result 2: [0 4 4 7 7 3 7 7 7 4 7 7 4 7 4 7 7 7 7 4 7 7 7 4 7 4 4 4 4 7 4 7 4 7 7 4 7\n",
      " 7 4 4 8 7 7 7 7 4 1 7 4 4 7 4 1 1 7 9 4 7 1 9 1 4 7 7 7 4 9 7 1 7 7 9 0 4\n",
      " 4 1 7 4 7 4 8 8 7 4 4 4 8 8 7 7 7 7 7 4 7 7 4 7 7 7 4 1 8 7 8 7 4 7 7 1 4\n",
      " 1 7 4 4 7 7 4 7 7 1 7 4 4 7 7 7 4 7 7 4 7 7 4 7 4 7 8 7 1 4 7 8 1 7 7 7 0\n",
      " 4 4 4 4 1 8 4 4 7 7 4 4 4 0 7 1 4 4 3 4 7 7 0 7 4 7 7 7 4 4 4 7 0 7 7 4 7\n",
      " 4 7 7 8 7 1 8 4 7 8 7 7 4 4 7 4 7 4 4 7 4 0 7 4 8 8 1 0 7 4 4 4 7 8 0 7 4\n",
      " 7 0 4 8 8 7 7 1 7 7 7 8 7 8 7 8 7 0 1 1 4 7 0 0 7 4 0 4 1 4 7 1 4 0 7 7 7\n",
      " 4 0 1 4 7 7 7 4 0 7 7 7 7 7 7 4 4 7 4 1 7 4 7 8 4 1 1 4 8 7 7 4 1 7 1 4 7\n",
      " 4 3 4 7 1 7 8 1 7 4 1 8 7 0 8 1 8 7 0 7 4 1 0 4 4 7 1 4 8 4 4 4 7 7 4 7 0\n",
      " 7 4 8 7 1 4 4 7 8 4 4 7 7 7 7 1 7 8 8 7 8 7 7 1 7 4 7 7 7 8 4 8 4 0 7 7 4\n",
      " 0 1 7 7 4 7 4 1 7 7 7 1 4 7 4 4 7 4 7 4 8 4 7 7 7 8 4 4 7 7 8 7 7 7 4 4 7\n",
      " 0 7 7 4 7 7 8 4 1 0 7 7 4]\n"
     ]
    },
    {
     "data": {
      "image/png": "[encoded data removed]",
      "text/plain": [
       "<Figure size 432x288 with 1 Axes>"
      ]
     },
     "metadata": {
      "needs_background": "light"
     },
     "output_type": "display_data"
    },
    {
     "name": "stdout",
     "output_type": "stream",
     "text": [
      "Result 9: [4 2 2 8 5 5 7 4 8 4 8 1 4 5 8 8 2 4 1 5 7 7 8 5 1 8 6 7 2 4 6 2 4 1 1 8 1\n",
      " 8 4 7 6 5 7 5 1 8 5 8 2 6 2 8 4 4 6 1 7 8 2 4 2 1 7 5 5 8 4 7 5 1 2 2 6 6\n",
      " 8 8 7 4 8 6 1 1 8 4 6 5 4 2 4 4 5 4 5 8 4 4 7 4 8 1 1 5 5 4 0 8 8 1 2 4 8\n",
      " 8 5 4 4 4 5 0 6 8 8 1 5 5 5 5 4 4 4 1 8 2 6 8 6 5 1 7 6 1 7 6 1 7 4 8 5 8\n",
      " 8 4 6 4 8 6 5 1 1 6 2 2 4 7 8 4 7 4 2 4 5 6 6 5 7 4 4 5 4 8 7 8 4 8 4 5 7\n",
      " 5 1 4 8 4 4 8 8 7 1 8 8 5 4 8 8 2 8 4 5 8 1 2 6 1 8 5 4 7 1 6 8 1 1 4 1 8\n",
      " 2 5 5 1 5 4 4 5 4 5 8 5 0 8 5 8 8 4 4 6 2 4 8 8 5 4 1 4 7 0 4 8 2 1 4 5 4\n",
      " 4 6 7 2 8 1 8 5 6 7 5 7 4 8 8 4 6 8 4 5 4 8 1 7 6 4 5 8 8 8 5 4 4 4 1 4 7\n",
      " 4 8 8 0]\n"
     ]
    },
    {
     "data": {
      "image/png": "[encoded data removed]",
      "text/plain": [
       "<Figure size 432x288 with 1 Axes>"
      ]
     },
     "metadata": {
      "needs_background": "light"
     },
     "output_type": "display_data"
    },
    {
     "name": "stdout",
     "output_type": "stream",
     "text": [
      "Result 6: [0 9 0 8 9 0 0 0 0 8 1 0 7 9 8 9 0 0 0 0 0 8 0 8 8 8 0 8 8 0 0 9 9 8 8 0 8\n",
      " 8 0 0 0 0 8 0 0 0 0 0 1 0 8 0 0 0 8 8 0 0 0 9 8 8 9 0 0 9 8 8 8 0 8 0 0 8\n",
      " 9 8 0 9 8 8 0 9 8 8 8 4 8 8 0 8 0 0 0 0 0 8 9 0 0 8 0 8 8 0 9 8 0 0 8 0 0\n",
      " 0 8 0 0 0 8 8 8 8 8 0 8 8 0 0 8 8 8 8 0 0 8 0 0 8 9 0 0 0 0 8 9 9 0 1 0 9\n",
      " 0 0 9 9 8 0 8 8 0 0 8 8 9 8 8 0 8 8 8 8 8 9 0 8 9 0 0 7 9 0 0 0 9 0 7 0 8\n",
      " 9 8 8 0 0 0 0 9 9 0 0 8 0 0 8 8 0 0 3 9 8 1 8 9 8 8 8 8 0 0 0 0 8 9 8 0 8\n",
      " 0 0 0 8 9 0 0 8 0 0 8 0 0 9 9 1 8 7 9 0 0 8 0 0 0 8 0 0 8 0 1 8 0 8 0 0 8\n",
      " 7 0 9 0 0 9 9 8 9 0 8 8 8 8 8 8 9 0 0 1 0 0 0 0 9 7 0 0 8 3 0 8 0 9 0 0 0\n",
      " 0 8 8 0 0 0 0 8 0 8 9 8 0 8 0 9 0 9 0 8 0 8 7 8 0 9 9 0 0 8 8 0 0 0 0 8 0\n",
      " 0 0 0 8 8 9 8 0 0 8 8 8 8 0 9 9 9 8 8 8 8 0 8 0 0 0 0 0 8 8 0 8 9 0 9 8 8\n",
      " 0 8 9 0 8 0 8 8 0 8 8 9 8 8 0 8 8 0 9 9 0 8 9 0 8 8 8 8 0 0 0 0 0 0 8 8 8\n",
      " 0 0 0 8 9 9 8 8 9 0 0 0 8 3 8 9 0 0 8 0 8 9 0 8 0 0 0 0 0 0 0 8 8 8 0 8 0\n",
      " 0 9 9 5 8 9 7 0 8 0 8 8 5 0 8 0 0 7 9 8 0 9 0 0 0 7 8 0 8 0 0 8 0 1 0 0 8\n",
      " 0 8 8 0 0 8 9 8 0 8 8 0 8 8 8 7 9 7 9 0 8 0 8 0 0 0 0 8 8 0 8 0 8 0 8 0 8\n",
      " 8 0 8 0 0 8 0 0 7 8 0 9 0 8 0 0 8 0 8 0 0 8 0 8 0 0 0 1 8 8 8 0 8 8 8 8 0\n",
      " 8 8 8 0 0 0 9 0 8 0 8 0 8 7 0 0 0 8 0 0 0 0 7 8 0 9 0 8 0 8 0 8 8 0 0 8 8\n",
      " 8 8 8 8 8 8 0 8 0 0 0 8 8 0 8 9 8 9 8 9 0 8 0 0 8 0 8 0 8 0 8 9 8 8 0 0 0\n",
      " 0 0 8 8 8 0 0 0 8 8 8 9 1 9 8 0 8 0 5 0 8 9 8 8 0 0 0 8 0 0 9 8 8 0 8 9 8\n",
      " 0 0 0 0 0 8 0 0 0 8 8 9 0 1 8 8 8 0 0 0 0 0 0 8 8 0 0 0 9 0 7 0 0 0 8 0 0\n",
      " 0 0 0 8 0 0 0 8 0 0 8 0 0 8 9 8 8 0 8 7 0 8 0 8 0 8 8 0 0 0 0 8 8 8 8 0 0\n",
      " 8 0 8 8 0 9 8 0 0 8 8 0 8 0 7 0 0 0 8 0 9 0 0 8 8 0 0 0 0 7 0 0 8 0 0 8 9\n",
      " 9 9 8]\n"
     ]
    }
   ],
   "source": [
    "# # new instances where we do not know the answer\n",
    "# Xnew, _ = make_blobs(n_samples=3, centers=2, n_features=2, random_state=1)\n",
    "# # make a prediction\n",
    "# ynew = model.predict(Xnew)\n",
    "# # show the inputs and predicted outputs\n",
    "# for i in range(len(Xnew)):\n",
    "# \tprint(\"X=%s, Predicted=%s\" % (Xnew[i], ynew[i]))\n",
    "\n",
    "idx = [0,1,2,3,4,5,6,7,8,9]\n",
    "#Image 2 removed\n",
    "clf = MultinomialNB()\n",
    "clf.fit(train_smpl_copy_2.iloc[:,:-1], train_smpl_copy_2.iloc[:,-1])\n",
    "result_2 = clf.predict(removed_classes[0].iloc[:,:-1])\n",
    "make_plot(\"Image 2 Removed - 80 limit lifted\", result_2)\n",
    "print(f\"Result 2: {result_2}\")\n",
    "\n",
    "\n",
    "#Image 9 removed\n",
    "clf = MultinomialNB()\n",
    "clf.fit(train_smpl_copy_9.iloc[:,:-1], train_smpl_copy_9.iloc[:,-1])\n",
    "result_9 = clf.predict(removed_classes[1].iloc[:,:-1])\n",
    "make_plot(\"Image 9 Removed - Arrow\", result_9)\n",
    "print(f\"Result 9: {result_9}\")\n",
    "\n",
    "#Image 6 removed\n",
    "clf = MultinomialNB()\n",
    "clf.fit(train_smpl_copy_6.iloc[:,:-1], train_smpl_copy_6.iloc[:,-1])\n",
    "result_6 = clf.predict(removed_classes[2].iloc[:,:-1])\n",
    "make_plot(\"Image 6 Removed - Stop Sign\", result_6)\n",
    "print(f\"Result 6: {result_6}\")"
   ]
  },
  {
   "cell_type": "code",
   "execution_count": null,
   "metadata": {},
   "outputs": [],
   "source": []
  },
  {
   "cell_type": "code",
   "execution_count": null,
   "metadata": {},
   "outputs": [],
   "source": []
  }
 ],
 "metadata": {
  "kernelspec": {
   "display_name": "Python 3",
   "language": "python",
   "name": "python3"
  },
  "language_info": {
   "codemirror_mode": {
    "name": "ipython",
    "version": 3
   },
   "file_extension": ".py",
   "mimetype": "text/x-python",
   "name": "python",
   "nbconvert_exporter": "python",
   "pygments_lexer": "ipython3",
   "version": "3.7.1"
  }
 },
 "nbformat": 4,
 "nbformat_minor": 4
}
